{
 "cells": [
  {
   "cell_type": "markdown",
   "metadata": {
    "colab_type": "text",
    "id": "vI0fsjVO6AFQ"
   },
   "source": [
    "## 4.5 チューニング"
   ]
  },
  {
   "cell_type": "markdown",
   "metadata": {
    "colab_type": "text",
    "id": "3IGVWl9A6AFR"
   },
   "source": [
    "### 共通事前処理"
   ]
  },
  {
   "cell_type": "code",
   "execution_count": 1,
   "metadata": {
    "colab": {},
    "colab_type": "code",
    "id": "UgT4X9sQ6AFR"
   },
   "outputs": [
    {
     "name": "stdout",
     "output_type": "stream",
     "text": [
      "Requirement already satisfied: six>=1.5 in /usr/lib/python3/dist-packages (from python-dateutil>=2.7->matplotlib->japanize-matplotlib) (1.14.0)\r\n"
     ]
    }
   ],
   "source": [
    "# 日本語化ライブラリ導入\n",
    "!pip install japanize-matplotlib | tail -n 1"
   ]
  },
  {
   "cell_type": "code",
   "execution_count": 2,
   "metadata": {
    "colab": {},
    "colab_type": "code",
    "id": "fz7RoOHl6AFV"
   },
   "outputs": [],
   "source": [
    "# 共通事前処理\n",
    "\n",
    "# 余分なワーニングを非表示にする\n",
    "import warnings\n",
    "warnings.filterwarnings('ignore')\n",
    "\n",
    "# 必要ライブラリのimport\n",
    "import pandas as pd\n",
    "import numpy as np\n",
    "import matplotlib.pyplot as plt\n",
    "\n",
    "# matplotlib日本語化対応\n",
    "import japanize_matplotlib\n",
    "\n",
    "# データフレーム表示用関数\n",
    "from IPython.display import display\n",
    "\n",
    "# 表示オプション調整\n",
    "# numpyの浮動小数点の表示精度\n",
    "np.set_printoptions(suppress=True, precision=4)\n",
    "# pandasでの浮動小数点の表示精度\n",
    "pd.options.display.float_format = '{:.4f}'.format\n",
    "# データフレームですべての項目を表示\n",
    "pd.set_option(\"display.max_columns\",None)\n",
    "# グラフのデフォルトフォント指定\n",
    "plt.rcParams[\"font.size\"] = 14\n",
    "# 乱数の種\n",
    "random_seed = 123"
   ]
  },
  {
   "cell_type": "markdown",
   "metadata": {
    "colab_type": "text",
    "id": "cY824oLy6AFX"
   },
   "source": [
    "#### サンプルデータの読み込み"
   ]
  },
  {
   "cell_type": "code",
   "execution_count": 3,
   "metadata": {
    "colab": {},
    "colab_type": "code",
    "id": "cigL7Rf96AFY",
    "scrolled": true
   },
   "outputs": [],
   "source": [
    "# サンプルデータの読み込み\n",
    "# (乳がん疾患データ)\n",
    "\n",
    "# データのロード\n",
    "from sklearn.datasets import load_breast_cancer\n",
    "cancer = load_breast_cancer()\n",
    "\n",
    "# 入力データ: x (30次元)\n",
    "# 正解データ: y\n",
    "x = cancer.data\n",
    "y = cancer.target"
   ]
  },
  {
   "cell_type": "code",
   "execution_count": 4,
   "metadata": {
    "colab": {},
    "colab_type": "code",
    "id": "xxmA-i9u6AFa"
   },
   "outputs": [
    {
     "name": "stdout",
     "output_type": "stream",
     "text": [
      "(569, 30)\n",
      "(512, 30)\n",
      "(57, 30)\n"
     ]
    }
   ],
   "source": [
    "# サンプルデータの分割\n",
    "\n",
    "# データ分割のパラメータ\n",
    "test_size = 0.1\n",
    "\n",
    "# データ分割\n",
    "from sklearn.model_selection import train_test_split\n",
    "x_train, x_test, y_train, y_test = train_test_split(x, y, \n",
    "    test_size=test_size, random_state=random_seed,\n",
    "    stratify=y)\n",
    "\n",
    "# 分割後サイズ確認\n",
    "print(x.shape)\n",
    "print(x_train.shape)\n",
    "print(x_test.shape)"
   ]
  },
  {
   "cell_type": "markdown",
   "metadata": {
    "colab_type": "text",
    "id": "d_QjsrYy6AFc"
   },
   "source": [
    "### 4.5.1 アルゴリズムの選択"
   ]
  },
  {
   "cell_type": "code",
   "execution_count": 5,
   "metadata": {
    "colab": {},
    "colab_type": "code",
    "id": "YyUICaYY6AFe"
   },
   "outputs": [],
   "source": [
    "# 複数アルゴリズムで精度を比較\n",
    "# 結果が同じになるようrandom_stateは同一にする\n",
    "\n",
    "# 線形回帰\n",
    "from sklearn.linear_model import LogisticRegression\n",
    "algorithm1 = LogisticRegression(random_state=random_seed)\n",
    "\n",
    "# サポートベクターマシン(カーネル)\n",
    "from sklearn.svm import SVC\n",
    "# kernel='rbf' はガウスカーネル\n",
    "algorithm2 = SVC(kernel='rbf', random_state=random_seed)\n",
    "\n",
    "# 決定木\n",
    "from sklearn.tree import DecisionTreeClassifier\n",
    "algorithm3 = DecisionTreeClassifier(random_state=random_seed)\n",
    "\n",
    "# ランダムフォレスト\n",
    "from sklearn.ensemble import RandomForestClassifier\n",
    "algorithm4 = RandomForestClassifier(random_state=random_seed)\n",
    "\n",
    "# XGBoost\n",
    "from xgboost import XGBClassifier\n",
    "algorithm5 = XGBClassifier(random_state=random_seed)\n",
    "\n",
    "# アルゴリズムのリスト作成\n",
    "algorithms = [algorithm1, algorithm2, algorithm3, algorithm4, \n",
    "    algorithm5]"
   ]
  },
  {
   "cell_type": "code",
   "execution_count": 6,
   "metadata": {
    "colab": {},
    "colab_type": "code",
    "id": "pYNYBRO26AFg"
   },
   "outputs": [
    {
     "name": "stdout",
     "output_type": "stream",
     "text": [
      "score: 0.9474  LogisticRegression\n",
      "score: 0.8947  SVC\n",
      "score: 0.9474  DecisionTreeClassifier\n",
      "score: 0.9298  RandomForestClassifier\n",
      "score: 0.9825  XGBClassifier\n"
     ]
    }
   ],
   "source": [
    "# 複数アルゴリズムで精度比較\n",
    "for algorithm in algorithms:\n",
    "    \n",
    "    # 訓練データで学習\n",
    "    algorithm.fit(x_train, y_train)\n",
    "    \n",
    "    # 検証データで精度測定\n",
    "    score = algorithm.score(x_test, y_test)\n",
    "    \n",
    "    # アルゴリズム名取得\n",
    "    name = algorithm.__class__.__name__\n",
    "\n",
    "    # 精度とアルゴリズム名表示\n",
    "    print(f'score: {score:.4f}  {name}')"
   ]
  },
  {
   "cell_type": "markdown",
   "metadata": {
    "colab_type": "text",
    "id": "6RSvFAdJ6AFi"
   },
   "source": [
    "### 4.5.2 ハイパーパラメータの最適化"
   ]
  },
  {
   "cell_type": "code",
   "execution_count": 7,
   "metadata": {
    "colab": {},
    "colab_type": "code",
    "id": "EPRlb_QU6AFj"
   },
   "outputs": [
    {
     "name": "stdout",
     "output_type": "stream",
     "text": [
      "SVC(random_state=123)\n"
     ]
    }
   ],
   "source": [
    "# デフォルトパラメータの確認\n",
    "algorithm = SVC(kernel='rbf', random_state=random_seed)\n",
    "print(algorithm)\n",
    "\n",
    "# p181 \n",
    "# SVCの場合、徳にパフォーマンスに影響するパラメータは gamma と C\n",
    "# 最初に gamma の最適値を求め、次に C の最適値を求める"
   ]
  },
  {
   "cell_type": "code",
   "execution_count": 8,
   "metadata": {
    "colab": {},
    "colab_type": "code",
    "id": "BLjgd4gK6AFl"
   },
   "outputs": [
    {
     "name": "stdout",
     "output_type": "stream",
     "text": [
      "score: 0.6316  gamma: 1\n",
      "score: 0.6316  gamma: 0.1\n",
      "score: 0.6316  gamma: 0.01\n",
      "score: 0.9474  gamma: 0.001\n",
      "score: 0.9474  gamma: 0.0001\n",
      "score: 0.9474  gamma: 1e-05\n"
     ]
    }
   ],
   "source": [
    "# gammaの最適化\n",
    "algorithm = SVC(kernel='rbf', random_state=random_seed)\n",
    "gammas = [1, 0.1, 0.01, 0.001, 0.0001, 0.00001]\n",
    "\n",
    "for gamma in gammas:\n",
    "    algorithm.gamma = gamma\n",
    "    algorithm.fit(x_train, y_train)\n",
    "    score = algorithm.score(x_test, y_test)\n",
    "    print(f'score: {score:.4f}  gamma: {gamma}')"
   ]
  },
  {
   "cell_type": "code",
   "execution_count": 9,
   "metadata": {
    "colab": {},
    "colab_type": "code",
    "id": "uGDQaEq96AFn"
   },
   "outputs": [
    {
     "name": "stdout",
     "output_type": "stream",
     "text": [
      "score: 0.9474  C: 1\n",
      "score: 0.9298  C: 10\n",
      "score: 0.9298  C: 100\n",
      "score: 0.9298  C: 1000\n",
      "score: 0.9298  C: 10000\n"
     ]
    }
   ],
   "source": [
    "# Cの最適化\n",
    "# gammaは先ほど調べた最適値 0.001を採用\n",
    "\n",
    "Cs = [1,  10,  100, 1000, 10000]\n",
    "for C in Cs:\n",
    "    algorithm = SVC(kernel='rbf', \n",
    "        gamma=0.001, C=C,\n",
    "        random_state=random_seed)\n",
    "    algorithm.fit(x_train, y_train)\n",
    "    score = algorithm.score(x_test, y_test)\n",
    "    print(f'score: {score:.4f}  C: {C}')"
   ]
  },
  {
   "cell_type": "markdown",
   "metadata": {
    "colab_type": "text",
    "id": "9cw678uR6AFp"
   },
   "source": [
    "### 4.5.3 交差検定法"
   ]
  },
  {
   "cell_type": "code",
   "execution_count": 10,
   "metadata": {
    "colab": {},
    "colab_type": "code",
    "id": "S4CcnHml6AFq"
   },
   "outputs": [
    {
     "name": "stdout",
     "output_type": "stream",
     "text": [
      "平均スコア: 0.9141  個別スコア: [0.8889 0.9181 0.9353]\n"
     ]
    }
   ],
   "source": [
    "# 特定のアルゴリズムに対して交差検定を実施\n",
    "\n",
    "# アルゴリズムの定義\n",
    "algorithm = SVC(kernel='rbf',random_state=random_seed,\n",
    "    gamma=0.001, C=1)\n",
    "\n",
    "# 分割時に正解データの分布が偏らないようにStratifiedKFoldを利用\n",
    "from sklearn.model_selection import StratifiedKFold\n",
    "stratifiedkfold = StratifiedKFold(n_splits=3)\n",
    "\n",
    "# 交差検定の実施 (分割数=3)\n",
    "from sklearn.model_selection import cross_val_score\n",
    "scores = cross_val_score(algorithm , x_train, y_train, \n",
    "    cv=stratifiedkfold)\n",
    "\n",
    "# 平均値の計算\n",
    "mean = scores.mean()\n",
    "\n",
    "# 結果表示\n",
    "print(f'平均スコア: {mean:.4f}  個別スコア: {scores}')"
   ]
  },
  {
   "cell_type": "code",
   "execution_count": 11,
   "metadata": {
    "colab": {},
    "colab_type": "code",
    "id": "0WEZL0DF6AFs"
   },
   "outputs": [],
   "source": [
    "# 候補アルゴリズムのリスト作成\n",
    "\n",
    "from sklearn.linear_model import LogisticRegression\n",
    "algorithm1 = LogisticRegression(random_state=random_seed)\n",
    "\n",
    "from sklearn.svm import SVC\n",
    "algorithm2 = SVC(kernel='rbf',random_state=random_seed,\n",
    "    gamma=0.001, C=1)\n",
    "\n",
    "from sklearn.tree import DecisionTreeClassifier\n",
    "algorithm3 = DecisionTreeClassifier(random_state=random_seed)\n",
    "\n",
    "from sklearn.ensemble import RandomForestClassifier\n",
    "algorithm4 = RandomForestClassifier(random_state=random_seed)\n",
    "\n",
    "from xgboost import XGBClassifier\n",
    "algorithm5 = XGBClassifier(random_state=random_seed)\n",
    "\n",
    "algorithms = [algorithm1, algorithm2, algorithm3, algorithm4, \n",
    "    algorithm5]"
   ]
  },
  {
   "cell_type": "code",
   "execution_count": 12,
   "metadata": {
    "colab": {},
    "colab_type": "code",
    "id": "8PP4Yrca6AFu"
   },
   "outputs": [
    {
     "name": "stdout",
     "output_type": "stream",
     "text": [
      "平均スコア: 0.9473  個別スコア: [0.9415 0.9474 0.9529]  LogisticRegression\n",
      "平均スコア: 0.9141  個別スコア: [0.8889 0.9181 0.9353]  SVC\n",
      "平均スコア: 0.9062  個別スコア: [0.8713 0.9415 0.9059]  DecisionTreeClassifier\n",
      "平均スコア: 0.9629  個別スコア: [0.9649 0.9591 0.9647]  RandomForestClassifier\n",
      "平均スコア: 0.9570  個別スコア: [0.9474 0.9649 0.9588]  XGBClassifier\n"
     ]
    }
   ],
   "source": [
    "# 複数アルゴリズムで精度を比較\n",
    "\n",
    "# 分割時に正解データの分布が偏らないようにStratifiedKFoldを利用\n",
    "from sklearn.model_selection import StratifiedKFold\n",
    "stratifiedkfold = StratifiedKFold(n_splits=3)\n",
    "\n",
    "from sklearn.model_selection import cross_val_score\n",
    "for algorithm in algorithms:\n",
    "    # 交差検定法の実行\n",
    "    scores = cross_val_score(algorithm , x_train, y_train, \n",
    "        cv=stratifiedkfold)\n",
    "    score = scores.mean()\n",
    "    name = algorithm.__class__.__name__\n",
    "    print(f'平均スコア: {score:.4f}  個別スコア: {scores}  {name}')"
   ]
  },
  {
   "cell_type": "markdown",
   "metadata": {
    "colab_type": "text",
    "id": "9hAdccB46AFw"
   },
   "source": [
    "### 4.5.4 グリッドサーチ"
   ]
  },
  {
   "cell_type": "code",
   "execution_count": 13,
   "metadata": {
    "colab": {},
    "colab_type": "code",
    "id": "mRqBCMWY6AFx"
   },
   "outputs": [
    {
     "name": "stdout",
     "output_type": "stream",
     "text": [
      "SVC(C=1000, gamma=1e-05, random_state=123)\n"
     ]
    }
   ],
   "source": [
    "# グリッドサーチを交差検定を組み合わせて最適なパラメータを探索\n",
    "params = {\n",
    "      'C':[1, 10, 100, 1000, 10000],\n",
    "      'gamma':[1, 0.1, 0.01, 0.001, 0.0001, 0.00001]\n",
    "}\n",
    "algorithm = SVC(random_state=random_seed)\n",
    "\n",
    "from sklearn.model_selection import StratifiedKFold\n",
    "stratifiedkfold = StratifiedKFold(n_splits=3)\n",
    "\n",
    "from sklearn.model_selection import GridSearchCV\n",
    "gs = GridSearchCV(algorithm, params, cv=stratifiedkfold)\n",
    "gs.fit(x_train, y_train)\n",
    "\n",
    "# ベストのモデルを取得し検証データを分類\n",
    "best = gs.best_estimator_\n",
    "best_pred = best.predict(x_test)\n",
    "print(best)"
   ]
  },
  {
   "cell_type": "code",
   "execution_count": 19,
   "metadata": {},
   "outputs": [
    {
     "name": "stdout",
     "output_type": "stream",
     "text": [
      "[0 1 0 1 1 0 1 1 1 0 1 0 0 1 1 1 1 0 1 1 1 0 1 0 0 1 1 0 0 0 1 1 1 1 1 0 1\n",
      " 0 1 1 1 1 1 1 0 1 1 1 0 1 1 1 1 0 0 0 1]\n",
      "<class 'numpy.ndarray'>\n"
     ]
    }
   ],
   "source": [
    "print(best_pred)\n",
    "print(type(best_pred))"
   ]
  },
  {
   "cell_type": "code",
   "execution_count": 20,
   "metadata": {
    "colab": {},
    "colab_type": "code",
    "id": "1JGcbbf16AFz"
   },
   "outputs": [
    {
     "name": "stdout",
     "output_type": "stream",
     "text": [
      "スコア: 0.9825\n",
      "\n",
      "混同行列\n",
      "[[20  1]\n",
      " [ 0 36]]\n",
      "<class 'numpy.ndarray'>\n"
     ]
    }
   ],
   "source": [
    "# 精度の取得\n",
    "score = best.score(x_test, y_test)\n",
    "print(f'スコア: {score:.4f}')\n",
    "\n",
    "# 混同行列を出力\n",
    "from sklearn.metrics import confusion_matrix\n",
    "print()\n",
    "print('混同行列')\n",
    "print(confusion_matrix(y_test, best_pred))\n",
    "print(type(confusion_matrix(y_test, best_pred)))"
   ]
  },
  {
   "cell_type": "code",
   "execution_count": null,
   "metadata": {
    "colab": {},
    "colab_type": "code",
    "id": "XoCkwlvY6AF1"
   },
   "outputs": [],
   "source": []
  }
 ],
 "metadata": {
  "colab": {
   "collapsed_sections": [],
   "name": "ch04_05_tuing.ipynb",
   "provenance": []
  },
  "kernelspec": {
   "display_name": "Python 3",
   "language": "python",
   "name": "python3"
  },
  "language_info": {
   "codemirror_mode": {
    "name": "ipython",
    "version": 3
   },
   "file_extension": ".py",
   "mimetype": "text/x-python",
   "name": "python",
   "nbconvert_exporter": "python",
   "pygments_lexer": "ipython3",
   "version": "3.8.10"
  }
 },
 "nbformat": 4,
 "nbformat_minor": 1
}
