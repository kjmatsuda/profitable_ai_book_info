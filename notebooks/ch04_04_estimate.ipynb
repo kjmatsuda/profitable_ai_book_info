{
 "cells": [
  {
   "cell_type": "markdown",
   "metadata": {
    "colab_type": "text",
    "id": "xv2OcVTkY7vv"
   },
   "source": [
    "## 4.4 評価\n"
   ]
  },
  {
   "cell_type": "code",
   "execution_count": 1,
   "metadata": {
    "colab": {},
    "colab_type": "code",
    "id": "-PHeHE44Y7vw"
   },
   "outputs": [
    {
     "name": "stdout",
     "output_type": "stream",
     "text": [
      "Requirement already satisfied: six>=1.5 in /usr/lib/python3/dist-packages (from python-dateutil>=2.7->matplotlib->japanize-matplotlib) (1.14.0)\r\n"
     ]
    }
   ],
   "source": [
    "# 日本語化ライブラリ導入\n",
    "!pip install japanize-matplotlib | tail -n 1"
   ]
  },
  {
   "cell_type": "code",
   "execution_count": 2,
   "metadata": {
    "colab": {},
    "colab_type": "code",
    "id": "Ra8fM7lxY7v0"
   },
   "outputs": [],
   "source": [
    "# 共通事前処理\n",
    "\n",
    "# 余分なワーニングを非表示にする\n",
    "import warnings\n",
    "warnings.filterwarnings('ignore')\n",
    "\n",
    "# 必要ライブラリのimport\n",
    "import pandas as pd\n",
    "import numpy as np\n",
    "import matplotlib.pyplot as plt\n",
    "\n",
    "# matplotlib日本語化対応\n",
    "import japanize_matplotlib\n",
    "\n",
    "# データフレーム表示用関数\n",
    "from IPython.display import display\n",
    "\n",
    "# 表示オプション調整\n",
    "# numpyの浮動小数点の表示精度\n",
    "np.set_printoptions(suppress=True, precision=4)\n",
    "# pandasでの浮動小数点の表示精度\n",
    "pd.options.display.float_format = '{:.4f}'.format\n",
    "# データフレームですべての項目を表示\n",
    "pd.set_option(\"display.max_columns\",None)\n",
    "# グラフのデフォルトフォント指定\n",
    "plt.rcParams[\"font.size\"] = 14\n",
    "# 乱数の種\n",
    "random_seed = 123"
   ]
  },
  {
   "cell_type": "markdown",
   "metadata": {
    "colab_type": "text",
    "id": "BpHwA-JaY7v3"
   },
   "source": [
    "### 4.4.1 混同行列"
   ]
  },
  {
   "cell_type": "markdown",
   "metadata": {
    "colab_type": "text",
    "id": "EWGhMtRxY7v3"
   },
   "source": [
    "#### 混同行列"
   ]
  },
  {
   "cell_type": "code",
   "execution_count": 3,
   "metadata": {
    "colab": {},
    "colab_type": "code",
    "id": "Ggsurtn8Y7v3"
   },
   "outputs": [],
   "source": [
    "# データ読み込みからデータ分割まで\n",
    "\n",
    "# ライブラリのimport\n",
    "from sklearn.datasets import load_breast_cancer\n",
    "\n",
    "# データのロード\n",
    "cancer = load_breast_cancer()\n",
    "\n",
    "# 入力データ x\n",
    "x = cancer.data\n",
    "\n",
    "# 正解データ y\n",
    "# 良性: 0 悪性: 1に値を変更する\n",
    "y = 1- cancer.target\n",
    "\n",
    "# 入力データを2次元に絞り込み (「2列に絞り込み」の誤記？(kj))\n",
    "x2 = x[:,:2]\n",
    "\n",
    "# (4) データ分割\n",
    "from sklearn.model_selection import train_test_split\n",
    "x_train, x_test, y_train, y_test = train_test_split(x2, y, \n",
    "    train_size=0.7, test_size=0.3, random_state=random_seed)"
   ]
  },
  {
   "cell_type": "code",
   "execution_count": 4,
   "metadata": {},
   "outputs": [
    {
     "name": "stdout",
     "output_type": "stream",
     "text": [
      "[[ 17.99    10.38   122.8    ...   0.2654   0.4601   0.1189]\n",
      " [ 20.57    17.77   132.9    ...   0.186    0.275    0.089 ]\n",
      " [ 19.69    21.25   130.     ...   0.243    0.3613   0.0876]\n",
      " ...\n",
      " [ 16.6     28.08   108.3    ...   0.1418   0.2218   0.0782]\n",
      " [ 20.6     29.33   140.1    ...   0.265    0.4087   0.124 ]\n",
      " [  7.76    24.54    47.92   ...   0.       0.2871   0.0704]]\n"
     ]
    }
   ],
   "source": [
    "print(x)"
   ]
  },
  {
   "cell_type": "code",
   "execution_count": 5,
   "metadata": {
    "colab": {},
    "colab_type": "code",
    "id": "dQ9XUGlqY7v6"
   },
   "outputs": [
    {
     "name": "stdout",
     "output_type": "stream",
     "text": [
      "score: 0.8772\n"
     ]
    }
   ],
   "source": [
    "# アルゴリズム選定から評価まで\n",
    "\n",
    "# アルゴリズム選定 (ロジスティック回帰)\n",
    "from sklearn.linear_model import LogisticRegression\n",
    "algorithm = LogisticRegression(random_state=random_seed)\n",
    "\n",
    "# 学習\n",
    "algorithm.fit(x_train, y_train)\n",
    "\n",
    "# 予測\n",
    "y_pred = algorithm.predict(x_test)\n",
    "\n",
    "# 評価\n",
    "score = algorithm.score(x_test, y_test)\n",
    "\n",
    "# 結果確認\n",
    "print(f'score: {score:.4f}')"
   ]
  },
  {
   "cell_type": "code",
   "execution_count": 6,
   "metadata": {
    "colab": {},
    "colab_type": "code",
    "id": "iODYJJZRY7v8"
   },
   "outputs": [
    {
     "name": "stdout",
     "output_type": "stream",
     "text": [
      "[[101   2]\n",
      " [ 19  49]]\n"
     ]
    }
   ],
   "source": [
    "# 混同行列の計算\n",
    "\n",
    "# 必要ライブラリの取込み\n",
    "from sklearn.metrics import confusion_matrix\n",
    "\n",
    "# 混同行列の生成\n",
    "#   y_test: 検証データの正解データ\n",
    "#   y_pred: 検証データの予測結果\n",
    "matrix = confusion_matrix(y_test, y_pred)\n",
    "\n",
    "# 結果確認\n",
    "print(matrix)"
   ]
  },
  {
   "cell_type": "code",
   "execution_count": 7,
   "metadata": {},
   "outputs": [
    {
     "data": {
      "text/plain": [
       "numpy.ndarray"
      ]
     },
     "execution_count": 7,
     "metadata": {},
     "output_type": "execute_result"
    }
   ],
   "source": [
    "type(matrix)"
   ]
  },
  {
   "cell_type": "code",
   "execution_count": 8,
   "metadata": {
    "colab": {},
    "colab_type": "code",
    "id": "CCo_8nbJY7v_"
   },
   "outputs": [],
   "source": [
    "# 混同行列表示用関数\n",
    "\n",
    "def make_cm(matrix, columns):\n",
    "    # matrix numpy配列\n",
    "    \n",
    "    # columns 項目名リスト\n",
    "    n = len(columns)\n",
    "    \n",
    "    # '正解データ'をn回繰り返すリスト生成\n",
    "    act = ['正解データ'] * n\n",
    "    pred = ['予測結果'] * n\n",
    "    \n",
    "    # 以下はマルチインデックスを使って行ラベル、列ラベルを階層的に持たせている\n",
    "    #データフレーム生成\n",
    "    cm = pd.DataFrame(matrix, \n",
    "        columns=[pred, columns], index=[act, columns])\n",
    "    return cm"
   ]
  },
  {
   "cell_type": "code",
   "execution_count": 9,
   "metadata": {
    "colab": {},
    "colab_type": "code",
    "id": "QRCossNUY7wB"
   },
   "outputs": [
    {
     "data": {
      "text/html": [
       "<div>\n",
       "<style scoped>\n",
       "    .dataframe tbody tr th:only-of-type {\n",
       "        vertical-align: middle;\n",
       "    }\n",
       "\n",
       "    .dataframe tbody tr th {\n",
       "        vertical-align: top;\n",
       "    }\n",
       "\n",
       "    .dataframe thead tr th {\n",
       "        text-align: left;\n",
       "    }\n",
       "</style>\n",
       "<table border=\"1\" class=\"dataframe\">\n",
       "  <thead>\n",
       "    <tr>\n",
       "      <th></th>\n",
       "      <th></th>\n",
       "      <th colspan=\"2\" halign=\"left\">予測結果</th>\n",
       "    </tr>\n",
       "    <tr>\n",
       "      <th></th>\n",
       "      <th></th>\n",
       "      <th>良性</th>\n",
       "      <th>悪性</th>\n",
       "    </tr>\n",
       "  </thead>\n",
       "  <tbody>\n",
       "    <tr>\n",
       "      <th rowspan=\"2\" valign=\"top\">正解データ</th>\n",
       "      <th>良性</th>\n",
       "      <td>101</td>\n",
       "      <td>2</td>\n",
       "    </tr>\n",
       "    <tr>\n",
       "      <th>悪性</th>\n",
       "      <td>19</td>\n",
       "      <td>49</td>\n",
       "    </tr>\n",
       "  </tbody>\n",
       "</table>\n",
       "</div>"
      ],
      "text/plain": [
       "         予測結果    \n",
       "           良性  悪性\n",
       "正解データ 良性  101   2\n",
       "      悪性   19  49"
      ]
     },
     "metadata": {},
     "output_type": "display_data"
    }
   ],
   "source": [
    "# make_cmを使った混同行列標示\n",
    "cm = make_cm(matrix, ['良性', '悪性'])\n",
    "display(cm)"
   ]
  },
  {
   "cell_type": "markdown",
   "metadata": {
    "colab_type": "text",
    "id": "Hsfiqt9kY7wH"
   },
   "source": [
    "### 4.4.2 精度・適合率・再現率・F値"
   ]
  },
  {
   "cell_type": "code",
   "execution_count": 10,
   "metadata": {
    "colab": {},
    "colab_type": "code",
    "id": "bW78c493Y7wH"
   },
   "outputs": [
    {
     "name": "stdout",
     "output_type": "stream",
     "text": [
      "適合率: 0.9608\n",
      "再現率: 0.7206\n",
      "F値:   0.8235\n"
     ]
    }
   ],
   "source": [
    "# 適合率・再現率・F値の計算\n",
    "\n",
    "# ライブラリの取込み\n",
    "from sklearn.metrics import precision_recall_fscore_support\n",
    "\n",
    "# 適合率・再現率・F値の計算\n",
    "precision, recall, fscore, _ = precision_recall_fscore_support(\n",
    "    y_test, y_pred, average='binary')\n",
    "\n",
    "# 結果の確認\n",
    "print(f'適合率: {precision:.4f}')\n",
    "print(f'再現率: {recall:.4f}')\n",
    "print(f'F値:   {fscore:.4f}')"
   ]
  },
  {
   "cell_type": "markdown",
   "metadata": {
    "colab_type": "text",
    "id": "5ccT1r0PY7wJ"
   },
   "source": [
    "### 4.4.3 確率値と閾値"
   ]
  },
  {
   "cell_type": "code",
   "execution_count": 11,
   "metadata": {
    "colab": {},
    "colab_type": "code",
    "id": "pLHofKFhY7wK"
   },
   "outputs": [
    {
     "name": "stdout",
     "output_type": "stream",
     "text": [
      "[[0.7889 0.2111]\n",
      " [0.0812 0.9188]\n",
      " [0.8383 0.1617]\n",
      " [0.9391 0.0609]\n",
      " [0.369  0.631 ]\n",
      " [0.9451 0.0549]\n",
      " [0.9399 0.0601]\n",
      " [0.9494 0.0506]\n",
      " [0.9617 0.0383]\n",
      " [0.9836 0.0164]]\n"
     ]
    }
   ],
   "source": [
    "# 確率値の取得\n",
    "y_proba = algorithm.predict_proba(x_test)\n",
    "print(y_proba[10:20,:])"
   ]
  },
  {
   "cell_type": "code",
   "execution_count": 12,
   "metadata": {
    "colab": {},
    "colab_type": "code",
    "id": "gvH_nov_Y7wM"
   },
   "outputs": [
    {
     "name": "stdout",
     "output_type": "stream",
     "text": [
      "[0 1 0 0 1 0 0 0 0 0]\n",
      "[0.2111 0.9188 0.1617 0.0609 0.631  0.0549 0.0601 0.0506 0.0383 0.0164]\n"
     ]
    }
   ],
   "source": [
    "# positive(1)の確率値の取得\n",
    "y_proba1 = y_proba[:,1]\n",
    "\n",
    "# 結果確認\n",
    "print(y_pred[10:20])\n",
    "print(y_proba1[10:20])"
   ]
  },
  {
   "cell_type": "code",
   "execution_count": 13,
   "metadata": {
    "colab": {},
    "colab_type": "code",
    "id": "1at-bPhnY7wP"
   },
   "outputs": [
    {
     "name": "stdout",
     "output_type": "stream",
     "text": [
      "[0 1 0 0 1 0 0 0 0 0]\n",
      "[0 1 0 0 0 0 0 0 0 0]\n"
     ]
    }
   ],
   "source": [
    "# 閾値を変化させる\n",
    "thres = 0.5\n",
    "print((y_proba1[10:20] > thres).astype(int))\n",
    "\n",
    "thres = 0.7\n",
    "print((y_proba1[10:20] > thres).astype(int))"
   ]
  },
  {
   "cell_type": "code",
   "execution_count": 14,
   "metadata": {
    "colab": {},
    "colab_type": "code",
    "id": "AO5clSBBY7wR"
   },
   "outputs": [],
   "source": [
    "# 閾値を変更した場合の予測関数の定義\n",
    "def pred(algorithm, x, thres):\n",
    "    # 確率値の取得(行列)\n",
    "    y_proba = algorithm.predict_proba(x)\n",
    "    \n",
    "    # 予測結果1の確率値\n",
    "    y_proba1 =  y_proba[:,1]\n",
    "    \n",
    "    # 予測結果1の確率値 > 閾値\n",
    "    y_pred = (y_proba1 > thres).astype(int)\n",
    "    return y_pred"
   ]
  },
  {
   "cell_type": "code",
   "execution_count": 15,
   "metadata": {
    "colab": {},
    "colab_type": "code",
    "id": "Z9X-vomEY7wU"
   },
   "outputs": [
    {
     "name": "stdout",
     "output_type": "stream",
     "text": [
      "[0 1 0 0 1 0 0 0 0 0]\n",
      "[0 1 0 0 0 0 0 0 0 0]\n"
     ]
    }
   ],
   "source": [
    "# 閾値0.5で予測結果取得\n",
    "pred_05 = pred(algorithm, x_test, 0.5)\n",
    "\n",
    "# 閾値0.7で予測結果取得\n",
    "pred_07 = pred(algorithm, x_test, 0.7)\n",
    "\n",
    "# 結果確認\n",
    "print(pred_05[10:20])\n",
    "print(pred_07[10:20])"
   ]
  },
  {
   "cell_type": "markdown",
   "metadata": {
    "colab_type": "text",
    "id": "kqoDRgYoY7wW"
   },
   "source": [
    "### 4.4.4 PR曲線とROC曲線"
   ]
  },
  {
   "cell_type": "markdown",
   "metadata": {
    "colab_type": "text",
    "id": "ybbNCaXOY7wW"
   },
   "source": [
    "#### PR曲線"
   ]
  },
  {
   "cell_type": "code",
   "execution_count": 16,
   "metadata": {
    "colab": {},
    "colab_type": "code",
    "id": "mQdAXZBbY7wX"
   },
   "outputs": [
    {
     "data": {
      "text/html": [
       "<div>\n",
       "<style scoped>\n",
       "    .dataframe tbody tr th:only-of-type {\n",
       "        vertical-align: middle;\n",
       "    }\n",
       "\n",
       "    .dataframe tbody tr th {\n",
       "        vertical-align: top;\n",
       "    }\n",
       "\n",
       "    .dataframe thead th {\n",
       "        text-align: right;\n",
       "    }\n",
       "</style>\n",
       "<table border=\"1\" class=\"dataframe\">\n",
       "  <thead>\n",
       "    <tr style=\"text-align: right;\">\n",
       "      <th></th>\n",
       "      <th>閾値</th>\n",
       "      <th>適合率</th>\n",
       "      <th>再現率</th>\n",
       "    </tr>\n",
       "  </thead>\n",
       "  <tbody>\n",
       "    <tr>\n",
       "      <th>52</th>\n",
       "      <td>0.0322</td>\n",
       "      <td>0.5462</td>\n",
       "      <td>0.9559</td>\n",
       "    </tr>\n",
       "    <tr>\n",
       "      <th>62</th>\n",
       "      <td>0.0491</td>\n",
       "      <td>0.5963</td>\n",
       "      <td>0.9559</td>\n",
       "    </tr>\n",
       "    <tr>\n",
       "      <th>72</th>\n",
       "      <td>0.0601</td>\n",
       "      <td>0.6465</td>\n",
       "      <td>0.9412</td>\n",
       "    </tr>\n",
       "    <tr>\n",
       "      <th>82</th>\n",
       "      <td>0.0987</td>\n",
       "      <td>0.7191</td>\n",
       "      <td>0.9412</td>\n",
       "    </tr>\n",
       "    <tr>\n",
       "      <th>92</th>\n",
       "      <td>0.1602</td>\n",
       "      <td>0.8101</td>\n",
       "      <td>0.9412</td>\n",
       "    </tr>\n",
       "    <tr>\n",
       "      <th>102</th>\n",
       "      <td>0.2170</td>\n",
       "      <td>0.8551</td>\n",
       "      <td>0.8676</td>\n",
       "    </tr>\n",
       "    <tr>\n",
       "      <th>112</th>\n",
       "      <td>0.3624</td>\n",
       "      <td>0.9492</td>\n",
       "      <td>0.8235</td>\n",
       "    </tr>\n",
       "  </tbody>\n",
       "</table>\n",
       "</div>"
      ],
      "text/plain": [
       "        閾値    適合率    再現率\n",
       "52  0.0322 0.5462 0.9559\n",
       "62  0.0491 0.5963 0.9559\n",
       "72  0.0601 0.6465 0.9412\n",
       "82  0.0987 0.7191 0.9412\n",
       "92  0.1602 0.8101 0.9412\n",
       "102 0.2170 0.8551 0.8676\n",
       "112 0.3624 0.9492 0.8235"
      ]
     },
     "metadata": {},
     "output_type": "display_data"
    }
   ],
   "source": [
    "# PR曲線用配列の生成\n",
    "\n",
    "# ライブラリの導入\n",
    "from sklearn.metrics import precision_recall_curve\n",
    "# 適合率, 再現率、閾値の取得\n",
    "precision, recall, thresholds = precision_recall_curve(\n",
    "    y_test, y_proba1)\n",
    "# 結果をデータフレームにする\n",
    "df_pr = pd.DataFrame([thresholds, precision, recall]).T\n",
    "df_pr.columns = ['閾値', '適合率', '再現率']\n",
    "# 閾値 0.5の周辺を表示\n",
    "display(df_pr[52:122:10])"
   ]
  },
  {
   "cell_type": "code",
   "execution_count": 17,
   "metadata": {},
   "outputs": [
    {
     "name": "stdout",
     "output_type": "stream",
     "text": [
      "[0.0001 0.0003 0.0005 0.0007 0.0008 0.0011 0.0012 0.0016 0.0019 0.0027\n",
      " 0.0033 0.0036 0.004  0.004  0.004  0.0041 0.0046 0.0063 0.0072 0.0075\n",
      " 0.009  0.0094 0.0102 0.013  0.0134 0.0134 0.0139 0.0142 0.0152 0.0157\n",
      " 0.0164 0.0167 0.0172 0.0191 0.021  0.022  0.0222 0.0223 0.0224 0.0225\n",
      " 0.0229 0.023  0.0231 0.0236 0.0254 0.0257 0.0278 0.0285 0.0297 0.0306\n",
      " 0.0308 0.0318 0.0322 0.0329 0.0337 0.0374 0.0379 0.0383 0.0402 0.0419\n",
      " 0.0464 0.0475 0.0491 0.0506 0.0526 0.0529 0.0538 0.0549 0.057  0.0572\n",
      " 0.0579 0.0598 0.0601 0.0609 0.0622 0.0635 0.0783 0.079  0.0856 0.087\n",
      " 0.087  0.0905 0.0987 0.1004 0.1031 0.1071 0.1094 0.1322 0.1343 0.1428\n",
      " 0.1473 0.1578 0.1602 0.1617 0.1633 0.1663 0.1683 0.1803 0.1866 0.188\n",
      " 0.2027 0.2111 0.217  0.2244 0.2356 0.24   0.2539 0.2765 0.2981 0.3121\n",
      " 0.3371 0.3509 0.3624 0.3785 0.3825 0.3958 0.4242 0.4622 0.4912 0.4981\n",
      " 0.5347 0.6089 0.612  0.631  0.653  0.6585 0.69   0.707  0.7149 0.7538\n",
      " 0.7763 0.8209 0.8253 0.8345 0.8346 0.8574 0.8603 0.8664 0.8812 0.8897\n",
      " 0.9025 0.9188 0.9263 0.9281 0.9529 0.9588 0.9646 0.9654 0.9655 0.9775\n",
      " 0.9829 0.9832 0.9856 0.988  0.9944 0.9951 0.9951 0.9972 0.9975 0.9978\n",
      " 0.9983 0.9992 0.9993 0.9994 0.9996 0.9999 1.     1.     1.     1.\n",
      " 1.    ]\n"
     ]
    }
   ],
   "source": [
    "\n",
    "print(thresholds)"
   ]
  },
  {
   "cell_type": "code",
   "execution_count": 18,
   "metadata": {
    "colab": {},
    "colab_type": "code",
    "id": "yjxdxEwUY7wZ"
   },
   "outputs": [
    {
     "data": {
      "image/png": "[encoded data removed]",
      "text/plain": [
       "<Figure size 432x432 with 1 Axes>"
      ]
     },
     "metadata": {
      "needs_background": "light"
     },
     "output_type": "display_data"
    }
   ],
   "source": [
    "# PR曲線の描画\n",
    "\n",
    "# 描画サイズ指定\n",
    "plt.figure(figsize=(6,6))\n",
    "# グラフ領域の塗りつぶし\n",
    "plt.fill_between(recall, precision, 0)\n",
    "# x, yの範囲指定\n",
    "plt.xlim([0.0, 1.0])\n",
    "plt.ylim([0.0, 1.0])\n",
    "# ラベル・タイトル表示\n",
    "plt.xlabel('再現率')\n",
    "plt.ylabel('適合率')\n",
    "plt.title('PR曲線')\n",
    "plt.show()"
   ]
  },
  {
   "cell_type": "code",
   "execution_count": 19,
   "metadata": {
    "colab": {},
    "colab_type": "code",
    "id": "O4JAQ3HIY7wb"
   },
   "outputs": [
    {
     "name": "stdout",
     "output_type": "stream",
     "text": [
      "PR曲線下面積: 0.9459\n"
     ]
    }
   ],
   "source": [
    "# PR曲線下面積の計算\n",
    "from sklearn.metrics import auc\n",
    "pr_auc = auc(recall, precision)\n",
    "print(f'PR曲線下面積: {pr_auc:.4f}')"
   ]
  },
  {
   "cell_type": "markdown",
   "metadata": {
    "colab_type": "text",
    "id": "nKtHryvTY7wd"
   },
   "source": [
    "#### ROC曲線"
   ]
  },
  {
   "cell_type": "code",
   "execution_count": 20,
   "metadata": {
    "colab": {},
    "colab_type": "code",
    "id": "jw-GtJwtY7we"
   },
   "outputs": [
    {
     "data": {
      "text/html": [
       "<div>\n",
       "<style scoped>\n",
       "    .dataframe tbody tr th:only-of-type {\n",
       "        vertical-align: middle;\n",
       "    }\n",
       "\n",
       "    .dataframe tbody tr th {\n",
       "        vertical-align: top;\n",
       "    }\n",
       "\n",
       "    .dataframe thead th {\n",
       "        text-align: right;\n",
       "    }\n",
       "</style>\n",
       "<table border=\"1\" class=\"dataframe\">\n",
       "  <thead>\n",
       "    <tr style=\"text-align: right;\">\n",
       "      <th></th>\n",
       "      <th>閾値</th>\n",
       "      <th>偽陽性率</th>\n",
       "      <th>敏感度</th>\n",
       "    </tr>\n",
       "  </thead>\n",
       "  <tbody>\n",
       "    <tr>\n",
       "      <th>21</th>\n",
       "      <td>0.9829</td>\n",
       "      <td>0.0000</td>\n",
       "      <td>0.3088</td>\n",
       "    </tr>\n",
       "    <tr>\n",
       "      <th>31</th>\n",
       "      <td>0.9025</td>\n",
       "      <td>0.0000</td>\n",
       "      <td>0.4559</td>\n",
       "    </tr>\n",
       "    <tr>\n",
       "      <th>41</th>\n",
       "      <td>0.7763</td>\n",
       "      <td>0.0097</td>\n",
       "      <td>0.5882</td>\n",
       "    </tr>\n",
       "    <tr>\n",
       "      <th>51</th>\n",
       "      <td>0.5347</td>\n",
       "      <td>0.0194</td>\n",
       "      <td>0.7206</td>\n",
       "    </tr>\n",
       "    <tr>\n",
       "      <th>61</th>\n",
       "      <td>0.3371</td>\n",
       "      <td>0.0388</td>\n",
       "      <td>0.8382</td>\n",
       "    </tr>\n",
       "    <tr>\n",
       "      <th>71</th>\n",
       "      <td>0.2027</td>\n",
       "      <td>0.1165</td>\n",
       "      <td>0.8676</td>\n",
       "    </tr>\n",
       "    <tr>\n",
       "      <th>81</th>\n",
       "      <td>0.1473</td>\n",
       "      <td>0.1650</td>\n",
       "      <td>0.9412</td>\n",
       "    </tr>\n",
       "  </tbody>\n",
       "</table>\n",
       "</div>"
      ],
      "text/plain": [
       "       閾値   偽陽性率    敏感度\n",
       "21 0.9829 0.0000 0.3088\n",
       "31 0.9025 0.0000 0.4559\n",
       "41 0.7763 0.0097 0.5882\n",
       "51 0.5347 0.0194 0.7206\n",
       "61 0.3371 0.0388 0.8382\n",
       "71 0.2027 0.1165 0.8676\n",
       "81 0.1473 0.1650 0.9412"
      ]
     },
     "metadata": {},
     "output_type": "display_data"
    }
   ],
   "source": [
    "# ROC曲線用配列の生成\n",
    "\n",
    "# ライブラリの導入\n",
    "from sklearn.metrics import roc_curve\n",
    "\n",
    "# 偽陽性率, 敏感度と閾値の取得\n",
    "fpr, tpr, thresholds = roc_curve(\n",
    "    y_test, y_proba1,drop_intermediate=False)\n",
    "\n",
    "# 結果をデータフレームにする\n",
    "df_roc = pd.DataFrame([thresholds, fpr, tpr]).T\n",
    "df_roc.columns = ['閾値', '偽陽性率', '敏感度']\n",
    "\n",
    "# 閾値 0.5の周辺を表示\n",
    "display(df_roc[21:91:10])"
   ]
  },
  {
   "cell_type": "code",
   "execution_count": 21,
   "metadata": {
    "colab": {},
    "colab_type": "code",
    "id": "DAoQrQB0Y7wg"
   },
   "outputs": [
    {
     "data": {
      "image/png": "[encoded data removed]",
      "text/plain": [
       "<Figure size 432x432 with 1 Axes>"
      ]
     },
     "metadata": {
      "needs_background": "light"
     },
     "output_type": "display_data"
    }
   ],
   "source": [
    "# ROC曲線の描画\n",
    "\n",
    "# 描画サイズ指定\n",
    "plt.figure(figsize=(6,6))\n",
    "\n",
    "# 点線表示\n",
    "plt.plot([0, 1], [0, 1], 'k--')\n",
    "\n",
    "# グラフ領域の塗りつぶし\n",
    "plt.fill_between(fpr, tpr, 0)\n",
    "\n",
    "# x, yの範囲指定\n",
    "plt.xlim([0.0, 1.0])\n",
    "plt.ylim([0.0, 1.0])\n",
    "\n",
    "# ラベル・タイトル表示\n",
    "plt.xlabel('偽陽性率')\n",
    "plt.ylabel('敏感度')\n",
    "plt.title('ROC曲線')\n",
    "plt.show()"
   ]
  },
  {
   "cell_type": "code",
   "execution_count": 22,
   "metadata": {
    "colab": {},
    "colab_type": "code",
    "id": "SLeeC-m8Y7wi"
   },
   "outputs": [
    {
     "name": "stdout",
     "output_type": "stream",
     "text": [
      "ROC曲線下面積:0.9522\n"
     ]
    }
   ],
   "source": [
    "# ROC曲線下面積の計算\n",
    "roc_auc = auc(fpr, tpr)\n",
    "print(f'ROC曲線下面積:{roc_auc:.4f}')"
   ]
  },
  {
   "cell_type": "markdown",
   "metadata": {
    "colab_type": "text",
    "id": "BLgzbVcaY7wk"
   },
   "source": [
    "#### より精度のいいモデルでROCカーブを描画"
   ]
  },
  {
   "cell_type": "code",
   "execution_count": 23,
   "metadata": {
    "colab": {},
    "colab_type": "code",
    "id": "IwwzzLZ_Y7wk"
   },
   "outputs": [],
   "source": [
    "# \"より精度がいい\"というのは入力変数の数をオリジナルの30個にしたもの\n",
    "from sklearn.model_selection import train_test_split\n",
    "x_train, x_test, y_train, y_test = train_test_split(\n",
    "  x, y, train_size=0.7, test_size=0.3, random_state=random_seed)\n",
    "algorithm = LogisticRegression()\n",
    "algorithm.fit(x_train, y_train)\n",
    "y_pred = algorithm.predict(x_test)\n",
    "y_proba1 = algorithm.predict_proba(x_test)[:,1]\n",
    "fpr, tpr, thresholds = roc_curve(y_test, y_proba1)"
   ]
  },
  {
   "cell_type": "code",
   "execution_count": 24,
   "metadata": {
    "colab": {},
    "colab_type": "code",
    "id": "-_iXjXz6Y7wm"
   },
   "outputs": [
    {
     "data": {
      "image/png": "[encoded data removed]",
      "text/plain": [
       "<Figure size 432x432 with 1 Axes>"
      ]
     },
     "metadata": {
      "needs_background": "light"
     },
     "output_type": "display_data"
    }
   ],
   "source": [
    "# ROC曲線の描画\n",
    "\n",
    "plt.figure(figsize=(6,6))\n",
    "plt.plot([0, 1], [0, 1], 'k--')\n",
    "plt.fill_between(fpr, tpr, 0)\n",
    "plt.xlim([0.0, 1.0])\n",
    "plt.ylim([0.0, 1.0])\n",
    "plt.xlabel('偽陽性率')\n",
    "plt.ylabel('敏感度')\n",
    "plt.title('ROC曲線')\n",
    "plt.show()"
   ]
  },
  {
   "cell_type": "code",
   "execution_count": 25,
   "metadata": {
    "colab": {},
    "colab_type": "code",
    "id": "od5pt69nY7wo"
   },
   "outputs": [
    {
     "name": "stdout",
     "output_type": "stream",
     "text": [
      "ROC曲線下面積:0.9964\n"
     ]
    }
   ],
   "source": [
    "# ROC AUCの計算\n",
    "roc_auc = auc(fpr, tpr)\n",
    "print(f'ROC曲線下面積:{roc_auc:.4f}')"
   ]
  },
  {
   "cell_type": "markdown",
   "metadata": {
    "colab_type": "text",
    "id": "52iRNE1RY7wq"
   },
   "source": [
    "### 4.4.5 入力項目の重要度"
   ]
  },
  {
   "cell_type": "markdown",
   "metadata": {
    "colab_type": "text",
    "id": "2j_ov-Y-Y7wq"
   },
   "source": [
    "#### ランダムフォレストのモデルを作るまで"
   ]
  },
  {
   "cell_type": "code",
   "execution_count": 26,
   "metadata": {
    "colab": {},
    "colab_type": "code",
    "id": "pIRGJkZWY7wr"
   },
   "outputs": [
    {
     "data": {
      "text/html": [
       "<style>#sk-container-id-1 {color: black;background-color: white;}#sk-container-id-1 pre{padding: 0;}#sk-container-id-1 div.sk-toggleable {background-color: white;}#sk-container-id-1 label.sk-toggleable__label {cursor: pointer;display: block;width: 100%;margin-bottom: 0;padding: 0.3em;box-sizing: border-box;text-align: center;}#sk-container-id-1 label.sk-toggleable__label-arrow:before {content: \"▸\";float: left;margin-right: 0.25em;color: #696969;}#sk-container-id-1 label.sk-toggleable__label-arrow:hover:before {color: black;}#sk-container-id-1 div.sk-estimator:hover label.sk-toggleable__label-arrow:before {color: black;}#sk-container-id-1 div.sk-toggleable__content {max-height: 0;max-width: 0;overflow: hidden;text-align: left;background-color: #f0f8ff;}#sk-container-id-1 div.sk-toggleable__content pre {margin: 0.2em;color: black;border-radius: 0.25em;background-color: #f0f8ff;}#sk-container-id-1 input.sk-toggleable__control:checked~div.sk-toggleable__content {max-height: 200px;max-width: 100%;overflow: auto;}#sk-container-id-1 input.sk-toggleable__control:checked~label.sk-toggleable__label-arrow:before {content: \"▾\";}#sk-container-id-1 div.sk-estimator input.sk-toggleable__control:checked~label.sk-toggleable__label {background-color: #d4ebff;}#sk-container-id-1 div.sk-label input.sk-toggleable__control:checked~label.sk-toggleable__label {background-color: #d4ebff;}#sk-container-id-1 input.sk-hidden--visually {border: 0;clip: rect(1px 1px 1px 1px);clip: rect(1px, 1px, 1px, 1px);height: 1px;margin: -1px;overflow: hidden;padding: 0;position: absolute;width: 1px;}#sk-container-id-1 div.sk-estimator {font-family: monospace;background-color: #f0f8ff;border: 1px dotted black;border-radius: 0.25em;box-sizing: border-box;margin-bottom: 0.5em;}#sk-container-id-1 div.sk-estimator:hover {background-color: #d4ebff;}#sk-container-id-1 div.sk-parallel-item::after {content: \"\";width: 100%;border-bottom: 1px solid gray;flex-grow: 1;}#sk-container-id-1 div.sk-label:hover label.sk-toggleable__label {background-color: #d4ebff;}#sk-container-id-1 div.sk-serial::before {content: \"\";position: absolute;border-left: 1px solid gray;box-sizing: border-box;top: 0;bottom: 0;left: 50%;z-index: 0;}#sk-container-id-1 div.sk-serial {display: flex;flex-direction: column;align-items: center;background-color: white;padding-right: 0.2em;padding-left: 0.2em;position: relative;}#sk-container-id-1 div.sk-item {position: relative;z-index: 1;}#sk-container-id-1 div.sk-parallel {display: flex;align-items: stretch;justify-content: center;background-color: white;position: relative;}#sk-container-id-1 div.sk-item::before, #sk-container-id-1 div.sk-parallel-item::before {content: \"\";position: absolute;border-left: 1px solid gray;box-sizing: border-box;top: 0;bottom: 0;left: 50%;z-index: -1;}#sk-container-id-1 div.sk-parallel-item {display: flex;flex-direction: column;z-index: 1;position: relative;background-color: white;}#sk-container-id-1 div.sk-parallel-item:first-child::after {align-self: flex-end;width: 50%;}#sk-container-id-1 div.sk-parallel-item:last-child::after {align-self: flex-start;width: 50%;}#sk-container-id-1 div.sk-parallel-item:only-child::after {width: 0;}#sk-container-id-1 div.sk-dashed-wrapped {border: 1px dashed gray;margin: 0 0.4em 0.5em 0.4em;box-sizing: border-box;padding-bottom: 0.4em;background-color: white;}#sk-container-id-1 div.sk-label label {font-family: monospace;font-weight: bold;display: inline-block;line-height: 1.2em;}#sk-container-id-1 div.sk-label-container {text-align: center;}#sk-container-id-1 div.sk-container {/* jupyter's `normalize.less` sets `[hidden] { display: none; }` but bootstrap.min.css set `[hidden] { display: none !important; }` so we also need the `!important` here to be able to override the default hidden behavior on the sphinx rendered scikit-learn.org. See: https://github.com/scikit-learn/scikit-learn/issues/21755 */display: inline-block !important;position: relative;}#sk-container-id-1 div.sk-text-repr-fallback {display: none;}</style><div id=\"sk-container-id-1\" class=\"sk-top-container\"><div class=\"sk-text-repr-fallback\"><pre>RandomForestClassifier(random_state=123)</pre><b>In a Jupyter environment, please rerun this cell to show the HTML representation or trust the notebook. <br />On GitHub, the HTML representation is unable to render, please try loading this page with nbviewer.org.</b></div><div class=\"sk-container\" hidden><div class=\"sk-item\"><div class=\"sk-estimator sk-toggleable\"><input class=\"sk-toggleable__control sk-hidden--visually\" id=\"sk-estimator-id-1\" type=\"checkbox\" checked><label for=\"sk-estimator-id-1\" class=\"sk-toggleable__label sk-toggleable__label-arrow\">RandomForestClassifier</label><div class=\"sk-toggleable__content\"><pre>RandomForestClassifier(random_state=123)</pre></div></div></div></div></div>"
      ],
      "text/plain": [
       "RandomForestClassifier(random_state=123)"
      ]
     },
     "execution_count": 26,
     "metadata": {},
     "output_type": "execute_result"
    }
   ],
   "source": [
    "# ランダムフォレストのモデルを作るまで\n",
    "\n",
    "# サンプルデータの読み込み\n",
    "import seaborn as sns\n",
    "df_iris = sns.load_dataset(\"iris\")\n",
    "columns_i = ['がく片長', 'がく片幅', '花弁長', '花弁幅', '種別']\n",
    "df_iris.columns = columns_i\n",
    "\n",
    "# 入力データ x\n",
    "x = df_iris[['がく片長', 'がく片幅', '花弁長', '花弁幅']]\n",
    "\n",
    "# 正解データ y\n",
    "y = df_iris['種別']\n",
    "\n",
    "# アルゴリズムの選定(ランダムフォレスト)\n",
    "from sklearn.ensemble import RandomForestClassifier\n",
    "algorithm = RandomForestClassifier(random_state=random_seed)\n",
    "\n",
    "# 学習\n",
    "algorithm.fit(x, y)"
   ]
  },
  {
   "cell_type": "markdown",
   "metadata": {
    "colab_type": "text",
    "id": "fFd91870Y7wt"
   },
   "source": [
    "#### 重要度ベクトルの取得"
   ]
  },
  {
   "cell_type": "code",
   "execution_count": 27,
   "metadata": {
    "colab": {},
    "colab_type": "code",
    "id": "zLFIj4cnY7wu"
   },
   "outputs": [
    {
     "name": "stdout",
     "output_type": "stream",
     "text": [
      "花弁長    0.4611\n",
      "花弁幅    0.4257\n",
      "がく片長   0.0874\n",
      "がく片幅   0.0257\n",
      "dtype: float64\n"
     ]
    }
   ],
   "source": [
    "# 重要度ベクトルの取得\n",
    "importances = algorithm.feature_importances_\n",
    "\n",
    "# 項目名をキーにSeriesを生成\n",
    "w = pd.Series(importances, index=x.columns)\n",
    "\n",
    "# 値の大きい順にソート\n",
    "u = w.sort_values(ascending=False)\n",
    "\n",
    "# 結果確認\n",
    "print(u)"
   ]
  },
  {
   "cell_type": "code",
   "execution_count": 25,
   "metadata": {
    "colab": {},
    "colab_type": "code",
    "id": "ThIVs9YgY7ww"
   },
   "outputs": [
    {
     "data": {
      "image/png": "[encoded data removed]",
      "text/plain": [
       "<Figure size 432x288 with 1 Axes>"
      ]
     },
     "metadata": {
      "needs_background": "light"
     },
     "output_type": "display_data"
    }
   ],
   "source": [
    "# 重要度の棒グラフ表示\n",
    "\n",
    "# 棒グラフ表示\n",
    "plt.bar(range(len(u)), u, color='b', align='center')\n",
    "\n",
    "# 項目名表示(90度回転)\n",
    "plt.xticks(range(len(u)), u.index, rotation=90)\n",
    "\n",
    "# タイトル表示\n",
    "plt.title('入力変数の重要度')\n",
    "\n",
    "plt.show()"
   ]
  },
  {
   "cell_type": "code",
   "execution_count": 26,
   "metadata": {
    "colab": {},
    "colab_type": "code",
    "id": "pJQwt5keY7wy"
   },
   "outputs": [
    {
     "data": {
      "image/png": "[encoded data removed]",
      "text/plain": [
       "<Figure size 432x288 with 1 Axes>"
      ]
     },
     "metadata": {
      "needs_background": "light"
     },
     "output_type": "display_data"
    }
   ],
   "source": [
    "# 決定木の場合\n",
    "\n",
    "from sklearn.tree import DecisionTreeClassifier\n",
    "algorithm = DecisionTreeClassifier(random_state=random_seed)\n",
    "algorithm.fit(x, y)\n",
    "importances = algorithm.feature_importances_\n",
    "w = pd.Series(importances, index=x.columns)\n",
    "u = w.sort_values(ascending=False)\n",
    "plt.title('入力変数の重要度(決定木)')\n",
    "plt.bar(range(len(u)), u, color='b', align='center')\n",
    "plt.xticks(range(len(u)), u.index, rotation=90)\n",
    "plt.show()"
   ]
  },
  {
   "cell_type": "code",
   "execution_count": 28,
   "metadata": {},
   "outputs": [
    {
     "data": {
      "text/plain": [
       "0         setosa\n",
       "1         setosa\n",
       "2         setosa\n",
       "3         setosa\n",
       "4         setosa\n",
       "         ...    \n",
       "145    virginica\n",
       "146    virginica\n",
       "147    virginica\n",
       "148    virginica\n",
       "149    virginica\n",
       "Name: 種別, Length: 150, dtype: object"
      ]
     },
     "execution_count": 28,
     "metadata": {},
     "output_type": "execute_result"
    }
   ],
   "source": [
    "y"
   ]
  },
  {
   "cell_type": "code",
   "execution_count": 30,
   "metadata": {
    "colab": {},
    "colab_type": "code",
    "id": "vB5_dDA0Y7w1"
   },
   "outputs": [
    {
     "ename": "ValueError",
     "evalue": "Invalid classes inferred from unique values of `y`.  Expected: [0 1 2], got ['setosa' 'versicolor' 'virginica']",
     "output_type": "error",
     "traceback": [
      "\u001b[0;31m---------------------------------------------------------------------------\u001b[0m",
      "\u001b[0;31mValueError\u001b[0m                                Traceback (most recent call last)",
      "\u001b[0;32m<ipython-input-30-2d86a244680e>\u001b[0m in \u001b[0;36m<module>\u001b[0;34m\u001b[0m\n\u001b[1;32m      3\u001b[0m \u001b[0;32mimport\u001b[0m \u001b[0mxgboost\u001b[0m\u001b[0;34m\u001b[0m\u001b[0;34m\u001b[0m\u001b[0m\n\u001b[1;32m      4\u001b[0m \u001b[0malgorithm\u001b[0m \u001b[0;34m=\u001b[0m \u001b[0mxgboost\u001b[0m\u001b[0;34m.\u001b[0m\u001b[0mXGBClassifier\u001b[0m\u001b[0;34m(\u001b[0m\u001b[0mrandom_state\u001b[0m\u001b[0;34m=\u001b[0m\u001b[0mrandom_seed\u001b[0m\u001b[0;34m)\u001b[0m\u001b[0;34m\u001b[0m\u001b[0;34m\u001b[0m\u001b[0m\n\u001b[0;32m----> 5\u001b[0;31m \u001b[0malgorithm\u001b[0m\u001b[0;34m.\u001b[0m\u001b[0mfit\u001b[0m\u001b[0;34m(\u001b[0m\u001b[0mx\u001b[0m\u001b[0;34m,\u001b[0m \u001b[0my\u001b[0m\u001b[0;34m)\u001b[0m\u001b[0;34m\u001b[0m\u001b[0;34m\u001b[0m\u001b[0m\n\u001b[0m\u001b[1;32m      6\u001b[0m \u001b[0mimportances\u001b[0m \u001b[0;34m=\u001b[0m \u001b[0malgorithm\u001b[0m\u001b[0;34m.\u001b[0m\u001b[0mfeature_importances_\u001b[0m\u001b[0;34m\u001b[0m\u001b[0;34m\u001b[0m\u001b[0m\n\u001b[1;32m      7\u001b[0m \u001b[0mw\u001b[0m \u001b[0;34m=\u001b[0m \u001b[0mpd\u001b[0m\u001b[0;34m.\u001b[0m\u001b[0mSeries\u001b[0m\u001b[0;34m(\u001b[0m\u001b[0mimportances\u001b[0m\u001b[0;34m,\u001b[0m \u001b[0mindex\u001b[0m\u001b[0;34m=\u001b[0m\u001b[0mx\u001b[0m\u001b[0;34m.\u001b[0m\u001b[0mcolumns\u001b[0m\u001b[0;34m)\u001b[0m\u001b[0;34m\u001b[0m\u001b[0;34m\u001b[0m\u001b[0m\n",
      "\u001b[0;32m~/.local/lib/python3.8/site-packages/xgboost/core.py\u001b[0m in \u001b[0;36minner_f\u001b[0;34m(*args, **kwargs)\u001b[0m\n\u001b[1;32m    618\u001b[0m             \u001b[0;32mfor\u001b[0m \u001b[0mk\u001b[0m\u001b[0;34m,\u001b[0m \u001b[0marg\u001b[0m \u001b[0;32min\u001b[0m \u001b[0mzip\u001b[0m\u001b[0;34m(\u001b[0m\u001b[0msig\u001b[0m\u001b[0;34m.\u001b[0m\u001b[0mparameters\u001b[0m\u001b[0;34m,\u001b[0m \u001b[0margs\u001b[0m\u001b[0;34m)\u001b[0m\u001b[0;34m:\u001b[0m\u001b[0;34m\u001b[0m\u001b[0;34m\u001b[0m\u001b[0m\n\u001b[1;32m    619\u001b[0m                 \u001b[0mkwargs\u001b[0m\u001b[0;34m[\u001b[0m\u001b[0mk\u001b[0m\u001b[0;34m]\u001b[0m \u001b[0;34m=\u001b[0m \u001b[0marg\u001b[0m\u001b[0;34m\u001b[0m\u001b[0;34m\u001b[0m\u001b[0m\n\u001b[0;32m--> 620\u001b[0;31m             \u001b[0;32mreturn\u001b[0m \u001b[0mfunc\u001b[0m\u001b[0;34m(\u001b[0m\u001b[0;34m**\u001b[0m\u001b[0mkwargs\u001b[0m\u001b[0;34m)\u001b[0m\u001b[0;34m\u001b[0m\u001b[0;34m\u001b[0m\u001b[0m\n\u001b[0m\u001b[1;32m    621\u001b[0m \u001b[0;34m\u001b[0m\u001b[0m\n\u001b[1;32m    622\u001b[0m         \u001b[0;32mreturn\u001b[0m \u001b[0minner_f\u001b[0m\u001b[0;34m\u001b[0m\u001b[0;34m\u001b[0m\u001b[0m\n",
      "\u001b[0;32m~/.local/lib/python3.8/site-packages/xgboost/sklearn.py\u001b[0m in \u001b[0;36mfit\u001b[0;34m(self, X, y, sample_weight, base_margin, eval_set, eval_metric, early_stopping_rounds, verbose, xgb_model, sample_weight_eval_set, base_margin_eval_set, feature_weights, callbacks)\u001b[0m\n\u001b[1;32m   1438\u001b[0m                 \u001b[0;32mor\u001b[0m \u001b[0;32mnot\u001b[0m \u001b[0;34m(\u001b[0m\u001b[0mself\u001b[0m\u001b[0;34m.\u001b[0m\u001b[0mclasses_\u001b[0m \u001b[0;34m==\u001b[0m \u001b[0mexpected_classes\u001b[0m\u001b[0;34m)\u001b[0m\u001b[0;34m.\u001b[0m\u001b[0mall\u001b[0m\u001b[0;34m(\u001b[0m\u001b[0;34m)\u001b[0m\u001b[0;34m\u001b[0m\u001b[0;34m\u001b[0m\u001b[0m\n\u001b[1;32m   1439\u001b[0m             ):\n\u001b[0;32m-> 1440\u001b[0;31m                 raise ValueError(\n\u001b[0m\u001b[1;32m   1441\u001b[0m                     \u001b[0;34mf\"Invalid classes inferred from unique values of `y`.  \"\u001b[0m\u001b[0;34m\u001b[0m\u001b[0;34m\u001b[0m\u001b[0m\n\u001b[1;32m   1442\u001b[0m                     \u001b[0;34mf\"Expected: {expected_classes}, got {self.classes_}\"\u001b[0m\u001b[0;34m\u001b[0m\u001b[0;34m\u001b[0m\u001b[0m\n",
      "\u001b[0;31mValueError\u001b[0m: Invalid classes inferred from unique values of `y`.  Expected: [0 1 2], got ['setosa' 'versicolor' 'virginica']"
     ]
    }
   ],
   "source": [
    "# XGBoostの場合\n",
    "\n",
    "import xgboost\n",
    "algorithm = xgboost.XGBClassifier(random_state=random_seed)\n",
    "algorithm.fit(x, y)\n",
    "importances = algorithm.feature_importances_\n",
    "w = pd.Series(importances, index=x.columns)\n",
    "u = w.sort_values(ascending=False)\n",
    "plt.title('入力変数の重要度(XGBoost)')\n",
    "plt.bar(range(len(u)), u, color='b', align='center')\n",
    "plt.xticks(range(len(u)), u.index, rotation=90)\n",
    "plt.show()"
   ]
  },
  {
   "cell_type": "markdown",
   "metadata": {
    "colab_type": "text",
    "id": "4I-oP4ImY7w3"
   },
   "source": [
    "### 4.4.6 回帰モデルの評価方法"
   ]
  },
  {
   "cell_type": "code",
   "execution_count": 32,
   "metadata": {
    "colab": {},
    "colab_type": "code",
    "id": "NQ49ttZPY7w3"
   },
   "outputs": [
    {
     "ename": "ImportError",
     "evalue": "\n`load_boston` has been removed from scikit-learn since version 1.2.\n\nThe Boston housing prices dataset has an ethical problem: as\ninvestigated in [1], the authors of this dataset engineered a\nnon-invertible variable \"B\" assuming that racial self-segregation had a\npositive impact on house prices [2]. Furthermore the goal of the\nresearch that led to the creation of this dataset was to study the\nimpact of air quality but it did not give adequate demonstration of the\nvalidity of this assumption.\n\nThe scikit-learn maintainers therefore strongly discourage the use of\nthis dataset unless the purpose of the code is to study and educate\nabout ethical issues in data science and machine learning.\n\nIn this special case, you can fetch the dataset from the original\nsource::\n\n    import pandas as pd\n    import numpy as np\n\n    data_url = \"http://lib.stat.cmu.edu/datasets/boston\"\n    raw_df = pd.read_csv(data_url, sep=\"\\s+\", skiprows=22, header=None)\n    data = np.hstack([raw_df.values[::2, :], raw_df.values[1::2, :2]])\n    target = raw_df.values[1::2, 2]\n\nAlternative datasets include the California housing dataset and the\nAmes housing dataset. You can load the datasets as follows::\n\n    from sklearn.datasets import fetch_california_housing\n    housing = fetch_california_housing()\n\nfor the California housing dataset and::\n\n    from sklearn.datasets import fetch_openml\n    housing = fetch_openml(name=\"house_prices\", as_frame=True)\n\nfor the Ames housing dataset.\n\n[1] M Carlisle.\n\"Racist data destruction?\"\n<https://medium.com/@docintangible/racist-data-destruction-113e3eff54a8>\n\n[2] Harrison Jr, David, and Daniel L. Rubinfeld.\n\"Hedonic housing prices and the demand for clean air.\"\nJournal of environmental economics and management 5.1 (1978): 81-102.\n<https://www.researchgate.net/publication/4974606_Hedonic_housing_prices_and_the_demand_for_clean_air>\n",
     "output_type": "error",
     "traceback": [
      "\u001b[0;31m---------------------------------------------------------------------------\u001b[0m",
      "\u001b[0;31mImportError\u001b[0m                               Traceback (most recent call last)",
      "\u001b[0;32m<ipython-input-32-a7b8be262b0b>\u001b[0m in \u001b[0;36m<module>\u001b[0;34m\u001b[0m\n\u001b[1;32m      3\u001b[0m \u001b[0;31m# データ読み込み(ボストン・データセット)\u001b[0m\u001b[0;34m\u001b[0m\u001b[0;34m\u001b[0m\u001b[0;34m\u001b[0m\u001b[0m\n\u001b[1;32m      4\u001b[0m \u001b[0;31m# load_boston\u001b[0m\u001b[0;34m\u001b[0m\u001b[0;34m\u001b[0m\u001b[0;34m\u001b[0m\u001b[0m\n\u001b[0;32m----> 5\u001b[0;31m \u001b[0;32mfrom\u001b[0m \u001b[0msklearn\u001b[0m\u001b[0;34m.\u001b[0m\u001b[0mdatasets\u001b[0m \u001b[0;32mimport\u001b[0m \u001b[0mload_boston\u001b[0m\u001b[0;34m\u001b[0m\u001b[0;34m\u001b[0m\u001b[0m\n\u001b[0m\u001b[1;32m      6\u001b[0m \u001b[0mboston\u001b[0m \u001b[0;34m=\u001b[0m \u001b[0mload_boston\u001b[0m\u001b[0;34m(\u001b[0m\u001b[0;34m)\u001b[0m\u001b[0;34m\u001b[0m\u001b[0;34m\u001b[0m\u001b[0m\n\u001b[1;32m      7\u001b[0m \u001b[0;34m\u001b[0m\u001b[0m\n",
      "\u001b[0;32m~/.local/lib/python3.8/site-packages/sklearn/datasets/__init__.py\u001b[0m in \u001b[0;36m__getattr__\u001b[0;34m(name)\u001b[0m\n\u001b[1;32m    154\u001b[0m             \"\"\"\n\u001b[1;32m    155\u001b[0m         )\n\u001b[0;32m--> 156\u001b[0;31m         \u001b[0;32mraise\u001b[0m \u001b[0mImportError\u001b[0m\u001b[0;34m(\u001b[0m\u001b[0mmsg\u001b[0m\u001b[0;34m)\u001b[0m\u001b[0;34m\u001b[0m\u001b[0;34m\u001b[0m\u001b[0m\n\u001b[0m\u001b[1;32m    157\u001b[0m     \u001b[0;32mtry\u001b[0m\u001b[0;34m:\u001b[0m\u001b[0;34m\u001b[0m\u001b[0;34m\u001b[0m\u001b[0m\n\u001b[1;32m    158\u001b[0m         \u001b[0;32mreturn\u001b[0m \u001b[0mglobals\u001b[0m\u001b[0;34m(\u001b[0m\u001b[0;34m)\u001b[0m\u001b[0;34m[\u001b[0m\u001b[0mname\u001b[0m\u001b[0;34m]\u001b[0m\u001b[0;34m\u001b[0m\u001b[0;34m\u001b[0m\u001b[0m\n",
      "\u001b[0;31mImportError\u001b[0m: \n`load_boston` has been removed from scikit-learn since version 1.2.\n\nThe Boston housing prices dataset has an ethical problem: as\ninvestigated in [1], the authors of this dataset engineered a\nnon-invertible variable \"B\" assuming that racial self-segregation had a\npositive impact on house prices [2]. Furthermore the goal of the\nresearch that led to the creation of this dataset was to study the\nimpact of air quality but it did not give adequate demonstration of the\nvalidity of this assumption.\n\nThe scikit-learn maintainers therefore strongly discourage the use of\nthis dataset unless the purpose of the code is to study and educate\nabout ethical issues in data science and machine learning.\n\nIn this special case, you can fetch the dataset from the original\nsource::\n\n    import pandas as pd\n    import numpy as np\n\n    data_url = \"http://lib.stat.cmu.edu/datasets/boston\"\n    raw_df = pd.read_csv(data_url, sep=\"\\s+\", skiprows=22, header=None)\n    data = np.hstack([raw_df.values[::2, :], raw_df.values[1::2, :2]])\n    target = raw_df.values[1::2, 2]\n\nAlternative datasets include the California housing dataset and the\nAmes housing dataset. You can load the datasets as follows::\n\n    from sklearn.datasets import fetch_california_housing\n    housing = fetch_california_housing()\n\nfor the California housing dataset and::\n\n    from sklearn.datasets import fetch_openml\n    housing = fetch_openml(name=\"house_prices\", as_frame=True)\n\nfor the Ames housing dataset.\n\n[1] M Carlisle.\n\"Racist data destruction?\"\n<https://medium.com/@docintangible/racist-data-destruction-113e3eff54a8>\n\n[2] Harrison Jr, David, and Daniel L. Rubinfeld.\n\"Hedonic housing prices and the demand for clean air.\"\nJournal of environmental economics and management 5.1 (1978): 81-102.\n<https://www.researchgate.net/publication/4974606_Hedonic_housing_prices_and_the_demand_for_clean_air>\n"
     ]
    }
   ],
   "source": [
    "# データ読み込みからデータ分割まで\n",
    "\n",
    "# データ読み込み(ボストン・データセット)\n",
    "# 2023/02/10 load_boston はエラーがでるようになっている。scikit-learn に変更があったようだ \n",
    "from sklearn.datasets import load_boston\n",
    "boston = load_boston()\n",
    "\n",
    "# df: 入力データ\n",
    "df = pd.DataFrame(boston.data, columns=boston.feature_names)\n",
    "\n",
    "# y: 正解データ\n",
    "y = boston.target\n",
    "\n",
    "# 1項目だけの入力データ df1を作る\n",
    "df1 = df[['RM']]\n",
    "\n",
    "# 結果確認\n",
    "display(df.head())\n",
    "display(df1.head())\n",
    "print(y[:5])"
   ]
  },
  {
   "cell_type": "code",
   "execution_count": 32,
   "metadata": {
    "colab": {},
    "colab_type": "code",
    "id": "vWU4DNDAY7w6"
   },
   "outputs": [
    {
     "ename": "NameError",
     "evalue": "name 'df1' is not defined",
     "output_type": "error",
     "traceback": [
      "\u001b[0;31m---------------------------------------------------------------------------\u001b[0m",
      "\u001b[0;31mNameError\u001b[0m                                 Traceback (most recent call last)",
      "\u001b[0;32m<ipython-input-32-a987c1af6700>\u001b[0m in \u001b[0;36m<module>\u001b[0;34m\u001b[0m\n\u001b[1;32m      7\u001b[0m \u001b[0;34m\u001b[0m\u001b[0m\n\u001b[1;32m      8\u001b[0m \u001b[0;31m# 学習 (入力データにdf1を利用)\u001b[0m\u001b[0;34m\u001b[0m\u001b[0;34m\u001b[0m\u001b[0;34m\u001b[0m\u001b[0m\n\u001b[0;32m----> 9\u001b[0;31m \u001b[0malgorithm1\u001b[0m\u001b[0;34m.\u001b[0m\u001b[0mfit\u001b[0m\u001b[0;34m(\u001b[0m\u001b[0mdf1\u001b[0m\u001b[0;34m,\u001b[0m \u001b[0my\u001b[0m\u001b[0;34m)\u001b[0m\u001b[0;34m\u001b[0m\u001b[0;34m\u001b[0m\u001b[0m\n\u001b[0m\u001b[1;32m     10\u001b[0m \u001b[0;34m\u001b[0m\u001b[0m\n\u001b[1;32m     11\u001b[0m \u001b[0;31m# 予測\u001b[0m\u001b[0;34m\u001b[0m\u001b[0;34m\u001b[0m\u001b[0;34m\u001b[0m\u001b[0m\n",
      "\u001b[0;31mNameError\u001b[0m: name 'df1' is not defined"
     ]
    }
   ],
   "source": [
    "# アルゴリズム選定から予測まで\n",
    "\n",
    "# アルゴリズム: XGBRegressor\n",
    "from xgboost import XGBRegressor\n",
    "algorithm1 = XGBRegressor(objective ='reg:squarederror',\n",
    "    random_state=random_seed)\n",
    "\n",
    "# 学習 (入力データにdf1を利用)\n",
    "algorithm1.fit(df1, y)\n",
    "\n",
    "# 予測\n",
    "y_pred1 = algorithm1.predict(df1)\n",
    "\n",
    "\n",
    "# アルゴリズム: XGBRegressor\n",
    "from xgboost import XGBRegressor\n",
    "algorithm2 = XGBRegressor(objective ='reg:squarederror',\n",
    "    random_state=random_seed)\n",
    "\n",
    "# 学習 (入力データにdfを利用)\n",
    "algorithm2.fit(df, y)\n",
    "\n",
    "# 予測\n",
    "y_pred2 = algorithm2.predict(df)"
   ]
  },
  {
   "cell_type": "code",
   "execution_count": 33,
   "metadata": {
    "colab": {},
    "colab_type": "code",
    "id": "zUADzPPcY7w8"
   },
   "outputs": [
    {
     "name": "stdout",
     "output_type": "stream",
     "text": [
      "y[:5] 0    setosa\n",
      "1    setosa\n",
      "2    setosa\n",
      "3    setosa\n",
      "4    setosa\n",
      "Name: 種別, dtype: object\n"
     ]
    },
    {
     "ename": "NameError",
     "evalue": "name 'y_pred1' is not defined",
     "output_type": "error",
     "traceback": [
      "\u001b[0;31m---------------------------------------------------------------------------\u001b[0m",
      "\u001b[0;31mNameError\u001b[0m                                 Traceback (most recent call last)",
      "\u001b[0;32m<ipython-input-33-928c4b908fa7>\u001b[0m in \u001b[0;36m<module>\u001b[0;34m\u001b[0m\n\u001b[1;32m      1\u001b[0m \u001b[0;31m# 結果確認\u001b[0m\u001b[0;34m\u001b[0m\u001b[0;34m\u001b[0m\u001b[0;34m\u001b[0m\u001b[0m\n\u001b[1;32m      2\u001b[0m \u001b[0mprint\u001b[0m\u001b[0;34m(\u001b[0m\u001b[0;34mf'y[:5] {y[:5]}'\u001b[0m\u001b[0;34m)\u001b[0m\u001b[0;34m\u001b[0m\u001b[0;34m\u001b[0m\u001b[0m\n\u001b[0;32m----> 3\u001b[0;31m \u001b[0mprint\u001b[0m\u001b[0;34m(\u001b[0m\u001b[0;34mf'y_pred1[:5] {y_pred1[:5]}'\u001b[0m\u001b[0;34m)\u001b[0m\u001b[0;34m\u001b[0m\u001b[0;34m\u001b[0m\u001b[0m\n\u001b[0m\u001b[1;32m      4\u001b[0m \u001b[0mprint\u001b[0m\u001b[0;34m(\u001b[0m\u001b[0;34mf'y_pred2[:5] {y_pred2[:5]}'\u001b[0m\u001b[0;34m)\u001b[0m\u001b[0;34m\u001b[0m\u001b[0;34m\u001b[0m\u001b[0m\n",
      "\u001b[0;31mNameError\u001b[0m: name 'y_pred1' is not defined"
     ]
    }
   ],
   "source": [
    "# 結果確認\n",
    "print(f'y[:5] {y[:5]}')\n",
    "print(f'y_pred1[:5] {y_pred1[:5]}')\n",
    "print(f'y_pred2[:5] {y_pred2[:5]}')"
   ]
  },
  {
   "cell_type": "code",
   "execution_count": 31,
   "metadata": {
    "colab": {},
    "colab_type": "code",
    "id": "8tGDzOi9Y7w-"
   },
   "outputs": [
    {
     "name": "stdout",
     "output_type": "stream",
     "text": [
      "[ 5. 50.]\n"
     ]
    }
   ],
   "source": [
    "# yの最大値と最小値の計算\n",
    "y_range = np.array([y.min(), y.max()])\n",
    "\n",
    "# 結果確認\n",
    "print(y_range)"
   ]
  },
  {
   "cell_type": "markdown",
   "metadata": {
    "colab_type": "text",
    "id": "v85oxddhY7xA"
   },
   "source": [
    "#### 散布図表示"
   ]
  },
  {
   "cell_type": "markdown",
   "metadata": {
    "colab_type": "text",
    "id": "_m1wt7U0Y7xA"
   },
   "source": [
    "#### 1入力変数の場合"
   ]
  },
  {
   "cell_type": "code",
   "execution_count": 32,
   "metadata": {
    "colab": {},
    "colab_type": "code",
    "id": "Ha1tUVzWY7xB"
   },
   "outputs": [
    {
     "data": {
      "image/png": "[encoded data removed]",
      "text/plain": [
       "<Figure size 432x432 with 1 Axes>"
      ]
     },
     "metadata": {
      "needs_background": "light"
     },
     "output_type": "display_data"
    }
   ],
   "source": [
    "# 散布図による結果確認(1入力変数)\n",
    "\n",
    "# 描画サイズ指定\n",
    "plt.figure(figsize=(6,6))\n",
    "\n",
    "# 散布図\n",
    "plt.scatter(y, y_pred1)\n",
    "\n",
    "# 正解データ=予測結果の直線\n",
    "plt.plot(y_range, y_range, 'k--')\n",
    "\n",
    "# ラベル・タイトル\n",
    "plt.xlabel('正解データ')\n",
    "plt.ylabel('予測結果')\n",
    "plt.title('正解データと予測結果の散布図表示(1入力変数)')\n",
    "\n",
    "plt.show()"
   ]
  },
  {
   "cell_type": "markdown",
   "metadata": {
    "colab_type": "text",
    "id": "leOkv4joY7xD"
   },
   "source": [
    "#### 13入力変数の場合"
   ]
  },
  {
   "cell_type": "code",
   "execution_count": 33,
   "metadata": {
    "colab": {},
    "colab_type": "code",
    "id": "KXv595XNY7xD"
   },
   "outputs": [
    {
     "data": {
      "image/png": "[encoded data removed]",
      "text/plain": [
       "<Figure size 432x432 with 1 Axes>"
      ]
     },
     "metadata": {
      "needs_background": "light"
     },
     "output_type": "display_data"
    }
   ],
   "source": [
    "# 散布図による結果確認(13入力変数)\n",
    "\n",
    "# 描画サイズ指定\n",
    "plt.figure(figsize=(6,6))\n",
    "\n",
    "# 散布図\n",
    "plt.scatter(y, y_pred2)\n",
    "\n",
    "# 正解データ=予測結果の直線\n",
    "plt.plot(y_range, y_range, 'k--')\n",
    "\n",
    "# ラベル・タイトル\n",
    "plt.xlabel('正解データ')\n",
    "plt.ylabel('予測結果')\n",
    "plt.title('正解データと予測結果の散布図表示(13入力変数)')\n",
    "\n",
    "plt.show()"
   ]
  },
  {
   "cell_type": "markdown",
   "metadata": {
    "colab_type": "text",
    "id": "BfpnuG-aY7xG"
   },
   "source": [
    "#### R2 score"
   ]
  },
  {
   "cell_type": "code",
   "execution_count": 34,
   "metadata": {
    "colab": {},
    "colab_type": "code",
    "id": "fYUF3lGZY7xH"
   },
   "outputs": [
    {
     "name": "stdout",
     "output_type": "stream",
     "text": [
      "R2 score(1入力変数): 0.9251\n"
     ]
    }
   ],
   "source": [
    "# r2 scoreの計算(1入力変数)\n",
    "from sklearn.metrics import r2_score\n",
    "r2_score1 = r2_score(y, y_pred1)\n",
    "print(f'R2 score(1入力変数): {r2_score1:.4f}')"
   ]
  },
  {
   "cell_type": "code",
   "execution_count": 35,
   "metadata": {
    "colab": {},
    "colab_type": "code",
    "id": "EAb3OG71Y7xJ"
   },
   "outputs": [
    {
     "name": "stdout",
     "output_type": "stream",
     "text": [
      "R2 score(13入力変数): 1.0000\n"
     ]
    }
   ],
   "source": [
    "# r2 scoreの計算(13入力変数)\n",
    "r2_score2 = r2_score(y, y_pred2)\n",
    "print(f'R2 score(13入力変数): {r2_score2:.4f}')"
   ]
  },
  {
   "cell_type": "code",
   "execution_count": null,
   "metadata": {
    "colab": {},
    "colab_type": "code",
    "id": "OeD_zz0EY7xL"
   },
   "outputs": [],
   "source": []
  }
 ],
 "metadata": {
  "colab": {
   "name": "ch04_04_estimate.ipynb",
   "provenance": []
  },
  "kernelspec": {
   "display_name": "Python 3",
   "language": "python",
   "name": "python3"
  },
  "language_info": {
   "codemirror_mode": {
    "name": "ipython",
    "version": 3
   },
   "file_extension": ".py",
   "mimetype": "text/x-python",
   "name": "python",
   "nbconvert_exporter": "python",
   "pygments_lexer": "ipython3",
   "version": "3.8.10"
  }
 },
 "nbformat": 4,
 "nbformat_minor": 1
}
