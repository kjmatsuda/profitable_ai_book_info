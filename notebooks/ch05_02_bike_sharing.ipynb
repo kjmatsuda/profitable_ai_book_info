{
 "cells": [
  {
   "cell_type": "markdown",
   "metadata": {
    "colab_type": "text",
    "id": "W7toKJ7wQX07"
   },
   "source": [
    "## 5.2 天候による売り上げ予測(回帰)"
   ]
  },
  {
   "cell_type": "markdown",
   "metadata": {
    "colab_type": "text",
    "id": "tWA8zM_4QX08"
   },
   "source": [
    "### 共通事前処理"
   ]
  },
  {
   "cell_type": "code",
   "execution_count": 1,
   "metadata": {
    "colab": {},
    "colab_type": "code",
    "id": "KoujqCm1QX08"
   },
   "outputs": [
    {
     "name": "stdout",
     "output_type": "stream",
     "text": [
      "Requirement already satisfied: six>=1.5 in /home/koji/.local/lib/python3.8/site-packages (from python-dateutil>=2.7->matplotlib->japanize-matplotlib) (1.12.0)\r\n"
     ]
    }
   ],
   "source": [
    "# 日本語化ライブラリ導入\n",
    "!pip install japanize-matplotlib | tail -n 1"
   ]
  },
  {
   "cell_type": "code",
   "execution_count": 2,
   "metadata": {
    "colab": {},
    "colab_type": "code",
    "id": "F3-ACoCCQX1A"
   },
   "outputs": [],
   "source": [
    "# 共通事前処理\n",
    "\n",
    "# 余分なワーニングを非表示にする\n",
    "import warnings\n",
    "warnings.filterwarnings('ignore')\n",
    "\n",
    "# 必要ライブラリのimport\n",
    "import pandas as pd\n",
    "import numpy as np\n",
    "import matplotlib.pyplot as plt\n",
    "\n",
    "# matplotlib日本語化対応\n",
    "import japanize_matplotlib\n",
    "\n",
    "# データフレーム表示用関数\n",
    "from IPython.display import display\n",
    "\n",
    "# 表示オプション調整\n",
    "# numpyの浮動小数点の表示精度\n",
    "np.set_printoptions(suppress=True, precision=4)\n",
    "\n",
    "# pandasでの浮動小数点の表示精度\n",
    "pd.options.display.float_format = '{:.4f}'.format\n",
    "\n",
    "# データフレームですべての項目を表示\n",
    "pd.set_option(\"display.max_columns\",None)\n",
    "\n",
    "# グラフのデフォルトフォント指定\n",
    "plt.rcParams[\"font.size\"] = 14\n",
    "\n",
    "# 乱数の種\n",
    "random_seed = 123"
   ]
  },
  {
   "cell_type": "markdown",
   "metadata": {
    "colab_type": "text",
    "id": "A0XDeacoQX1C"
   },
   "source": [
    "オリジナルURL   \n",
    "https://archive.ics.uci.edu/ml/datasets/bike+sharing+dataset"
   ]
  },
  {
   "cell_type": "markdown",
   "metadata": {
    "colab_type": "text",
    "id": "OZRHKSIdQX1D"
   },
   "source": [
    "#### データ項目メモ\n",
    "\n",
    "instant インデックス  \n",
    "dteday 日付(yy-mm-dd)  \n",
    "season 季節 (1: 冬 2: 春 3: 夏 4:秋)  \n",
    "yr 年 (0: 2011, 1:2012)  \n",
    "mnth 月  (1 - 12)  \n",
    "hr 時間  (0 - 23)  \n",
    "holiday 祝日  \n",
    "weekday 曜日 (0 - 6)  \n",
    "workingday  勤務日 (1: 勤務日 0: 休日)  \n",
    "weathersit 天気 (1: 晴れから曇り 2: 霧 3: 小雨 4: 大雨)  \n",
    "temp 気温 (正規化済み)  \n",
    "atemp 体感気温 (正規化済み)  \n",
    "hum 湿度 (正規化済み)  \n",
    "windspeed 風速 (正規化済み)  \n",
    "casual 臨時利用者数  \n",
    "registered 登録利用者数  \n",
    "cnt 全体利用者数  "
   ]
  },
  {
   "cell_type": "markdown",
   "metadata": {
    "colab_type": "text",
    "id": "aZqGa_O1QX1D"
   },
   "source": [
    "### 5.2.4 データ読み込みからデータ確認まで"
   ]
  },
  {
   "cell_type": "markdown",
   "metadata": {
    "colab_type": "text",
    "id": "9Rhq446bQX1E"
   },
   "source": [
    "#### データ読み込み"
   ]
  },
  {
   "cell_type": "code",
   "execution_count": 3,
   "metadata": {
    "colab": {},
    "colab_type": "code",
    "id": "Q2d-PkeYQX1E"
   },
   "outputs": [
    {
     "name": "stdout",
     "output_type": "stream",
     "text": [
      "--2023-06-08 22:13:09--  https://archive.ics.uci.edu/ml/machine-learning-databases/00275/Bike-Sharing-Dataset.zip\n",
      "archive.ics.uci.edu (archive.ics.uci.edu) をDNSに問いあわせています... 128.195.10.252\n",
      "archive.ics.uci.edu (archive.ics.uci.edu)|128.195.10.252|:443 に接続しています... 接続しました。\n",
      "HTTP による接続要求を送信しました、応答を待っています... 404 Not Found\n",
      "2023-06-08 22:13:09 エラー 404: Not Found。\n",
      "\n",
      "  End-of-central-directory signature not found.  Either this file is not\n",
      "  a zipfile, or it constitutes one disk of a multi-part archive.  In the\n",
      "  latter case the central directory and zipfile comment will be found on\n",
      "  the last disk(s) of this archive.\n",
      "unzip:  cannot find zipfile directory in one of Bike-Sharing-Dataset.zip or\n",
      "        Bike-Sharing-Dataset.zip.zip, and cannot find Bike-Sharing-Dataset.zip.ZIP, period.\n",
      "Archive:  Bike-Sharing-Dataset.zip\n"
     ]
    }
   ],
   "source": [
    "# ダウンロード元URL\n",
    "url = 'https://archive.ics.uci.edu/ml/machine-learning-databases/00275/Bike-Sharing-Dataset.zip'\n",
    "\n",
    "# 公開データのダウンロードと解凍\n",
    "!wget $url -O Bike-Sharing-Dataset.zip | tail -n 1\n",
    "!unzip -o Bike-Sharing-Dataset.zip | tail -n 1"
   ]
  },
  {
   "cell_type": "code",
   "execution_count": 4,
   "metadata": {
    "colab": {},
    "colab_type": "code",
    "id": "hJrvgZSgQX1G"
   },
   "outputs": [
    {
     "name": "stdout",
     "output_type": "stream",
     "text": [
      "instant,dteday,season,yr,mnth,holiday,weekday,workingday,weathersit,temp,atemp,hum,windspeed,casual,registered,cnt\r",
      "\r\n",
      "1,2011-01-01,1,0,1,0,6,0,2,0.344167,0.363625,0.805833,0.160446,331,654,985\r",
      "\r\n",
      "2,2011-01-02,1,0,1,0,0,0,2,0.363478,0.353739,0.696087,0.248539,131,670,801\r",
      "\r\n",
      "3,2011-01-03,1,0,1,0,1,1,1,0.196364,0.189405,0.437273,0.248309,120,1229,1349\r",
      "\r\n",
      "4,2011-01-04,1,0,1,0,2,1,1,0.2,0.212122,0.590435,0.160296,108,1454,1562\r",
      "\r\n"
     ]
    }
   ],
   "source": [
    "# データの状態確認\n",
    "!head -5 day.csv"
   ]
  },
  {
   "cell_type": "code",
   "execution_count": 5,
   "metadata": {
    "colab": {},
    "colab_type": "code",
    "id": "FuX-Q-BqQX1I"
   },
   "outputs": [
    {
     "name": "stdout",
     "output_type": "stream",
     "text": [
      "instant                int64\n",
      "dteday        datetime64[ns]\n",
      "season                 int64\n",
      "yr                     int64\n",
      "mnth                   int64\n",
      "holiday                int64\n",
      "weekday                int64\n",
      "workingday             int64\n",
      "weathersit             int64\n",
      "temp                 float64\n",
      "atemp                float64\n",
      "hum                  float64\n",
      "windspeed            float64\n",
      "casual                 int64\n",
      "registered             int64\n",
      "cnt                    int64\n",
      "dtype: object\n"
     ]
    }
   ],
   "source": [
    "# day.csvをデータフレームに取り込み\n",
    "# 日付を表す列はparse_datesで指定する\n",
    "df = pd.read_csv('day.csv', parse_dates=[1])\n",
    "\n",
    "# データ属性の確認\n",
    "print(df.dtypes)"
   ]
  },
  {
   "cell_type": "code",
   "execution_count": 6,
   "metadata": {
    "colab": {},
    "colab_type": "code",
    "id": "qy60y8Y0QX1L"
   },
   "outputs": [],
   "source": [
    "# instant は連番で予測で不要なので削除\n",
    "df = df.drop('instant', axis=1)\n",
    "\n",
    "# 項目名の日本語化\n",
    "\n",
    "columns = [\n",
    "    '日付',  '季節',  '年', '月', '祝日', '曜日', '勤務日', '天気', \n",
    "    '気温', '体感温度',  '湿度', '風速',\n",
    "    '臨時ユーザー利用数', '登録ユーザー利用数', '全体ユーザー利用数'\n",
    "]\n",
    "\n",
    "# 項目名を日本語に置き換え\n",
    "df.columns = columns"
   ]
  },
  {
   "cell_type": "markdown",
   "metadata": {
    "colab_type": "text",
    "id": "zsTmo2rQQX1N"
   },
   "source": [
    "#### データ確認"
   ]
  },
  {
   "cell_type": "code",
   "execution_count": 7,
   "metadata": {
    "colab": {},
    "colab_type": "code",
    "id": "0LxwHpORQX1N"
   },
   "outputs": [
    {
     "data": {
      "text/html": [
       "<div>\n",
       "<style scoped>\n",
       "    .dataframe tbody tr th:only-of-type {\n",
       "        vertical-align: middle;\n",
       "    }\n",
       "\n",
       "    .dataframe tbody tr th {\n",
       "        vertical-align: top;\n",
       "    }\n",
       "\n",
       "    .dataframe thead th {\n",
       "        text-align: right;\n",
       "    }\n",
       "</style>\n",
       "<table border=\"1\" class=\"dataframe\">\n",
       "  <thead>\n",
       "    <tr style=\"text-align: right;\">\n",
       "      <th></th>\n",
       "      <th>日付</th>\n",
       "      <th>季節</th>\n",
       "      <th>年</th>\n",
       "      <th>月</th>\n",
       "      <th>祝日</th>\n",
       "      <th>曜日</th>\n",
       "      <th>勤務日</th>\n",
       "      <th>天気</th>\n",
       "      <th>気温</th>\n",
       "      <th>体感温度</th>\n",
       "      <th>湿度</th>\n",
       "      <th>風速</th>\n",
       "      <th>臨時ユーザー利用数</th>\n",
       "      <th>登録ユーザー利用数</th>\n",
       "      <th>全体ユーザー利用数</th>\n",
       "    </tr>\n",
       "  </thead>\n",
       "  <tbody>\n",
       "    <tr>\n",
       "      <th>0</th>\n",
       "      <td>2011-01-01</td>\n",
       "      <td>1</td>\n",
       "      <td>0</td>\n",
       "      <td>1</td>\n",
       "      <td>0</td>\n",
       "      <td>6</td>\n",
       "      <td>0</td>\n",
       "      <td>2</td>\n",
       "      <td>0.3442</td>\n",
       "      <td>0.3636</td>\n",
       "      <td>0.8058</td>\n",
       "      <td>0.1604</td>\n",
       "      <td>331</td>\n",
       "      <td>654</td>\n",
       "      <td>985</td>\n",
       "    </tr>\n",
       "    <tr>\n",
       "      <th>1</th>\n",
       "      <td>2011-01-02</td>\n",
       "      <td>1</td>\n",
       "      <td>0</td>\n",
       "      <td>1</td>\n",
       "      <td>0</td>\n",
       "      <td>0</td>\n",
       "      <td>0</td>\n",
       "      <td>2</td>\n",
       "      <td>0.3635</td>\n",
       "      <td>0.3537</td>\n",
       "      <td>0.6961</td>\n",
       "      <td>0.2485</td>\n",
       "      <td>131</td>\n",
       "      <td>670</td>\n",
       "      <td>801</td>\n",
       "    </tr>\n",
       "    <tr>\n",
       "      <th>2</th>\n",
       "      <td>2011-01-03</td>\n",
       "      <td>1</td>\n",
       "      <td>0</td>\n",
       "      <td>1</td>\n",
       "      <td>0</td>\n",
       "      <td>1</td>\n",
       "      <td>1</td>\n",
       "      <td>1</td>\n",
       "      <td>0.1964</td>\n",
       "      <td>0.1894</td>\n",
       "      <td>0.4373</td>\n",
       "      <td>0.2483</td>\n",
       "      <td>120</td>\n",
       "      <td>1229</td>\n",
       "      <td>1349</td>\n",
       "    </tr>\n",
       "    <tr>\n",
       "      <th>3</th>\n",
       "      <td>2011-01-04</td>\n",
       "      <td>1</td>\n",
       "      <td>0</td>\n",
       "      <td>1</td>\n",
       "      <td>0</td>\n",
       "      <td>2</td>\n",
       "      <td>1</td>\n",
       "      <td>1</td>\n",
       "      <td>0.2000</td>\n",
       "      <td>0.2121</td>\n",
       "      <td>0.5904</td>\n",
       "      <td>0.1603</td>\n",
       "      <td>108</td>\n",
       "      <td>1454</td>\n",
       "      <td>1562</td>\n",
       "    </tr>\n",
       "    <tr>\n",
       "      <th>4</th>\n",
       "      <td>2011-01-05</td>\n",
       "      <td>1</td>\n",
       "      <td>0</td>\n",
       "      <td>1</td>\n",
       "      <td>0</td>\n",
       "      <td>3</td>\n",
       "      <td>1</td>\n",
       "      <td>1</td>\n",
       "      <td>0.2270</td>\n",
       "      <td>0.2293</td>\n",
       "      <td>0.4370</td>\n",
       "      <td>0.1869</td>\n",
       "      <td>82</td>\n",
       "      <td>1518</td>\n",
       "      <td>1600</td>\n",
       "    </tr>\n",
       "  </tbody>\n",
       "</table>\n",
       "</div>"
      ],
      "text/plain": [
       "          日付  季節  年  月  祝日  曜日  勤務日  天気     気温   体感温度     湿度     風速  \\\n",
       "0 2011-01-01   1  0  1   0   6    0   2 0.3442 0.3636 0.8058 0.1604   \n",
       "1 2011-01-02   1  0  1   0   0    0   2 0.3635 0.3537 0.6961 0.2485   \n",
       "2 2011-01-03   1  0  1   0   1    1   1 0.1964 0.1894 0.4373 0.2483   \n",
       "3 2011-01-04   1  0  1   0   2    1   1 0.2000 0.2121 0.5904 0.1603   \n",
       "4 2011-01-05   1  0  1   0   3    1   1 0.2270 0.2293 0.4370 0.1869   \n",
       "\n",
       "   臨時ユーザー利用数  登録ユーザー利用数  全体ユーザー利用数  \n",
       "0        331        654        985  \n",
       "1        131        670        801  \n",
       "2        120       1229       1349  \n",
       "3        108       1454       1562  \n",
       "4         82       1518       1600  "
      ]
     },
     "metadata": {},
     "output_type": "display_data"
    },
    {
     "data": {
      "text/html": [
       "<div>\n",
       "<style scoped>\n",
       "    .dataframe tbody tr th:only-of-type {\n",
       "        vertical-align: middle;\n",
       "    }\n",
       "\n",
       "    .dataframe tbody tr th {\n",
       "        vertical-align: top;\n",
       "    }\n",
       "\n",
       "    .dataframe thead th {\n",
       "        text-align: right;\n",
       "    }\n",
       "</style>\n",
       "<table border=\"1\" class=\"dataframe\">\n",
       "  <thead>\n",
       "    <tr style=\"text-align: right;\">\n",
       "      <th></th>\n",
       "      <th>日付</th>\n",
       "      <th>季節</th>\n",
       "      <th>年</th>\n",
       "      <th>月</th>\n",
       "      <th>祝日</th>\n",
       "      <th>曜日</th>\n",
       "      <th>勤務日</th>\n",
       "      <th>天気</th>\n",
       "      <th>気温</th>\n",
       "      <th>体感温度</th>\n",
       "      <th>湿度</th>\n",
       "      <th>風速</th>\n",
       "      <th>臨時ユーザー利用数</th>\n",
       "      <th>登録ユーザー利用数</th>\n",
       "      <th>全体ユーザー利用数</th>\n",
       "    </tr>\n",
       "  </thead>\n",
       "  <tbody>\n",
       "    <tr>\n",
       "      <th>726</th>\n",
       "      <td>2012-12-27</td>\n",
       "      <td>1</td>\n",
       "      <td>1</td>\n",
       "      <td>12</td>\n",
       "      <td>0</td>\n",
       "      <td>4</td>\n",
       "      <td>1</td>\n",
       "      <td>2</td>\n",
       "      <td>0.2542</td>\n",
       "      <td>0.2266</td>\n",
       "      <td>0.6529</td>\n",
       "      <td>0.3501</td>\n",
       "      <td>247</td>\n",
       "      <td>1867</td>\n",
       "      <td>2114</td>\n",
       "    </tr>\n",
       "    <tr>\n",
       "      <th>727</th>\n",
       "      <td>2012-12-28</td>\n",
       "      <td>1</td>\n",
       "      <td>1</td>\n",
       "      <td>12</td>\n",
       "      <td>0</td>\n",
       "      <td>5</td>\n",
       "      <td>1</td>\n",
       "      <td>2</td>\n",
       "      <td>0.2533</td>\n",
       "      <td>0.2550</td>\n",
       "      <td>0.5900</td>\n",
       "      <td>0.1555</td>\n",
       "      <td>644</td>\n",
       "      <td>2451</td>\n",
       "      <td>3095</td>\n",
       "    </tr>\n",
       "    <tr>\n",
       "      <th>728</th>\n",
       "      <td>2012-12-29</td>\n",
       "      <td>1</td>\n",
       "      <td>1</td>\n",
       "      <td>12</td>\n",
       "      <td>0</td>\n",
       "      <td>6</td>\n",
       "      <td>0</td>\n",
       "      <td>2</td>\n",
       "      <td>0.2533</td>\n",
       "      <td>0.2424</td>\n",
       "      <td>0.7529</td>\n",
       "      <td>0.1244</td>\n",
       "      <td>159</td>\n",
       "      <td>1182</td>\n",
       "      <td>1341</td>\n",
       "    </tr>\n",
       "    <tr>\n",
       "      <th>729</th>\n",
       "      <td>2012-12-30</td>\n",
       "      <td>1</td>\n",
       "      <td>1</td>\n",
       "      <td>12</td>\n",
       "      <td>0</td>\n",
       "      <td>0</td>\n",
       "      <td>0</td>\n",
       "      <td>1</td>\n",
       "      <td>0.2558</td>\n",
       "      <td>0.2317</td>\n",
       "      <td>0.4833</td>\n",
       "      <td>0.3508</td>\n",
       "      <td>364</td>\n",
       "      <td>1432</td>\n",
       "      <td>1796</td>\n",
       "    </tr>\n",
       "    <tr>\n",
       "      <th>730</th>\n",
       "      <td>2012-12-31</td>\n",
       "      <td>1</td>\n",
       "      <td>1</td>\n",
       "      <td>12</td>\n",
       "      <td>0</td>\n",
       "      <td>1</td>\n",
       "      <td>1</td>\n",
       "      <td>2</td>\n",
       "      <td>0.2158</td>\n",
       "      <td>0.2235</td>\n",
       "      <td>0.5775</td>\n",
       "      <td>0.1548</td>\n",
       "      <td>439</td>\n",
       "      <td>2290</td>\n",
       "      <td>2729</td>\n",
       "    </tr>\n",
       "  </tbody>\n",
       "</table>\n",
       "</div>"
      ],
      "text/plain": [
       "            日付  季節  年   月  祝日  曜日  勤務日  天気     気温   体感温度     湿度     風速  \\\n",
       "726 2012-12-27   1  1  12   0   4    1   2 0.2542 0.2266 0.6529 0.3501   \n",
       "727 2012-12-28   1  1  12   0   5    1   2 0.2533 0.2550 0.5900 0.1555   \n",
       "728 2012-12-29   1  1  12   0   6    0   2 0.2533 0.2424 0.7529 0.1244   \n",
       "729 2012-12-30   1  1  12   0   0    0   1 0.2558 0.2317 0.4833 0.3508   \n",
       "730 2012-12-31   1  1  12   0   1    1   2 0.2158 0.2235 0.5775 0.1548   \n",
       "\n",
       "     臨時ユーザー利用数  登録ユーザー利用数  全体ユーザー利用数  \n",
       "726        247       1867       2114  \n",
       "727        644       2451       3095  \n",
       "728        159       1182       1341  \n",
       "729        364       1432       1796  \n",
       "730        439       2290       2729  "
      ]
     },
     "metadata": {},
     "output_type": "display_data"
    }
   ],
   "source": [
    "# 先頭5行の確認\n",
    "display(df.head())\n",
    "\n",
    "# 最終5行の確認\n",
    "display(df.tail())"
   ]
  },
  {
   "cell_type": "code",
   "execution_count": 8,
   "metadata": {
    "colab": {},
    "colab_type": "code",
    "id": "Xj1KcQLtQX1Q"
   },
   "outputs": [
    {
     "data": {
      "image/png": "[encoded data removed]",
      "text/plain": [
       "<Figure size 432x288 with 16 Axes>"
      ]
     },
     "metadata": {
      "needs_background": "light"
     },
     "output_type": "display_data"
    }
   ],
   "source": [
    "# 度数分布表示\n",
    "\n",
    "# グラフのサイズ調整のためのおまじない\n",
    "from pylab import rcParams\n",
    "rcParams['figure.figsize'] = (12, 12)\n",
    "\n",
    "# データフレームの数値項目でヒストグラム表示\n",
    "df.hist(bins=20)\n",
    "plt.tight_layout()\n",
    "plt.show()"
   ]
  },
  {
   "cell_type": "code",
   "execution_count": 9,
   "metadata": {
    "colab": {},
    "colab_type": "code",
    "id": "dN3hdcdNQX1S"
   },
   "outputs": [
    {
     "data": {
      "text/plain": [
       "日付           0\n",
       "季節           0\n",
       "年            0\n",
       "月            0\n",
       "祝日           0\n",
       "曜日           0\n",
       "勤務日          0\n",
       "天気           0\n",
       "気温           0\n",
       "体感温度         0\n",
       "湿度           0\n",
       "風速           0\n",
       "臨時ユーザー利用数    0\n",
       "登録ユーザー利用数    0\n",
       "全体ユーザー利用数    0\n",
       "dtype: int64"
      ]
     },
     "execution_count": 9,
     "metadata": {},
     "output_type": "execute_result"
    }
   ],
   "source": [
    "# 欠損値チェック\n",
    "df.isnull().sum()"
   ]
  },
  {
   "cell_type": "markdown",
   "metadata": {
    "colab_type": "text",
    "id": "if09vDCfQX1U"
   },
   "source": [
    "#### 時系列データのグラフ表示"
   ]
  },
  {
   "cell_type": "code",
   "execution_count": 10,
   "metadata": {
    "colab": {},
    "colab_type": "code",
    "id": "v9AduZkVQX1U"
   },
   "outputs": [
    {
     "data": {
      "image/png": "[encoded data removed]",
      "text/plain": [
       "<Figure size 864x288 with 1 Axes>"
      ]
     },
     "metadata": {
      "needs_background": "light"
     },
     "output_type": "display_data"
    }
   ],
   "source": [
    "# 時系列グラフの描画 (登録利用者数)\n",
    "plt.figure(figsize=(12,4))\n",
    "\n",
    "# グラフ描画\n",
    "plt.plot(df['日付'],df['登録ユーザー利用数'],c='b')\n",
    "\n",
    "# 方眼表示など\n",
    "plt.grid()\n",
    "plt.title('登録ユーザー利用数')\n",
    "\n",
    "# 画面出力\n",
    "plt.show()"
   ]
  },
  {
   "cell_type": "markdown",
   "metadata": {
    "colab_type": "text",
    "id": "mgKX4STvQX1X"
   },
   "source": [
    "### 5.2.5 データ前処理とデータ分割"
   ]
  },
  {
   "cell_type": "markdown",
   "metadata": {
    "colab_type": "text",
    "id": "p4VaqJ_vQX1X"
   },
   "source": [
    "#### データ前処理\n",
    "(特になし)"
   ]
  },
  {
   "cell_type": "markdown",
   "metadata": {
    "colab_type": "text",
    "id": "w9ZNTRl_QX1X"
   },
   "source": [
    "#### データ分割\n",
    "\n",
    "方針\n",
    "* 目的変数yは「登録ユーザー利用数」とする\n",
    "* 「全体ユーザー利用数」と「臨時ユーザー利用数」は対象から落とす\n",
    "* 日付も入力変数として不要なので入力変数xから落とす\n",
    "* 時間軸に関しては 2012-11-01より前を訓練データ、後ろを検証データとする"
   ]
  },
  {
   "cell_type": "code",
   "execution_count": 11,
   "metadata": {
    "colab": {},
    "colab_type": "code",
    "id": "UsBb8b19QX1Y"
   },
   "outputs": [],
   "source": [
    "# x, yへの分割\n",
    "x = df.drop(['日付', '臨時ユーザー利用数', '登録ユーザー利用数',\n",
    "    '全体ユーザー利用数'], axis=1)\n",
    "y = df['登録ユーザー利用数'].values"
   ]
  },
  {
   "cell_type": "code",
   "execution_count": 12,
   "metadata": {},
   "outputs": [
    {
     "name": "stdout",
     "output_type": "stream",
     "text": [
      "[ 654  670 1229 1454 1518 1518 1362  891  768 1280 1220 1137 1368 1367\n",
      " 1026  953  883  674 1572 1844 1468  888  836 1330 1799  472  416 1129\n",
      "  975  956 1459 1313 1454 1489 1620  905 1269 1592 1466 1552 1491 1597\n",
      " 1184 1192 1705 1675 1897 2216 2348 1103 1173  912 1376 1778 1707 1341\n",
      " 1545 1708 1365 1714 1903 1562 1730 1437  491 1628 1817 1700  577 1730\n",
      " 1408 1435 1687 1767 1871 2320 2355 1693 1424 1676 2243 1918 1699 1910\n",
      " 1515 1221 1806 2108 1368 1506 1920 1354 1598 2381 1628 2395 2570 1299\n",
      " 1576 1707 2493 1777 1953 2738 2484  674 2186 2760 2795 3331 3444 1506\n",
      " 2574 2481 3300 3722 3325 3489 3717 3347 2213 3554 3848 2378 3819 3714\n",
      " 3102 2932 3698 4109 3632 4169 3413 2507 2971 3185 3445 3319 3840 4008\n",
      " 3547 3084 3438 3833 4238 3919 3808 2757 2433 2549 3309 3461 4232 4414\n",
      " 3473 3221 3875 4070 3725 3352 3771 3237 2993 4157 4164 4411 3222 3981\n",
      " 3312 3105 3311 4061 3846 4044 4022 3420 3385 3854 3916 4377 4488 4116\n",
      " 2915 2367 2978 3634 3845 3838 3348 3348 3138 3363 3596 3594 4196 4220\n",
      " 3505 3296 3617 3789 3688 3152 2825 2298 2556 3272 3840 3901 3784 3176\n",
      " 2916 2778 3537 4044 3107 3777 3843 2773 2487 3480 3695 3896 3980 3854\n",
      " 2646 2482 3563 4004 4026 3166 3356 3277 2624 3925 4614 4181 3107 3893\n",
      "  889 2919 3905 4429 4370 4332 3852 2549 2419 2115 2506 1878 1689 3127\n",
      " 3595 3413 4023 4062 4138 3231 4018 3077 2921 3848 3203 3813 4240 2137\n",
      " 3647 3466 3946 3643 3427 4186 4372 1949 2302 3240 3970 4267 4126 4036\n",
      " 3174 3114 3603 3896 2199 2623 3115 3318 3293 3857 4111 2170 3724 3628\n",
      " 2809 2762 3488 3992 3490 2419 3291  570 2446 3307 3658 3816 3656 3576\n",
      " 2770 2697 3662 3829 3804 2743 2928 2792 2713 3891 3746 1672 2914 3147\n",
      " 2720 2733 2545 1538 2454  935 1697 1819 2261 3614 2818 3425 3545 3672\n",
      " 2908 2851 3578 2468  655 3172 3359 2688 2366 3167 3368 3562 3528 3399\n",
      " 2464 2211 3143 3534 2553 2841 2046  856  451  887 1059 2047 2169 2508\n",
      " 1820 1608 1707 2147 2273 3132 3791 3451 2826 2270 3425 2085 3828 3040\n",
      " 2160 2027 2081 2808 3267 3162 3048 1234 1781 2287 3900 3803 3831 3187\n",
      " 3248 2685 3498 4185 4275 3571 3841 2448 2629 3578 4176 2693 3667 3604\n",
      " 1977 1456 3328 3787 4028 2931 3805 2883 2071 2627 3614 4379 4546 3241\n",
      " 2415 2874 4069 4134 1769 4665 2948 3110 2713 3130 3735 4484 4896 4122\n",
      " 3150 3253 4460 5085 5315 5187 3830 4681 3685 5171 5042 5108 5537 5893\n",
      " 2339 3464 4763 4571 5024 5299 4663 3934 3694 4728 5424 5378 5265 4653\n",
      " 3605 2939 4680 5099 4380 4746 5146 4665 4286 5172 5702 4020 5719 5950\n",
      " 4083  907 3019 5115 5541 4551 5219 3100 4075 4907 5087 5502 5657 5227\n",
      " 4387 4224 5265 4990 4097 5546 5711 4807 3946 2501 4490 6433 6142 6118\n",
      " 4884 4425 3729 5254 4494 5711 5317 3681 3308 3486 4863 6110 6238 3594\n",
      " 5325 5147 5927 6033 6028 6456 6248 4790 4374 5647 4495 6248 6183 6102\n",
      " 4739 4344 4446 5857 5339 5127 4859 4801 4340 5640 6365 6258 5958 4634\n",
      " 4232 4110 5323 5608 4841 4836 4841 3392 3469 5571 5336 6289 6414 5988\n",
      " 4614 4111 5742 5865 4914 5703 5123 3195 4866 5831 6452 6790 5825 5645\n",
      " 4451 4444 6065 6248 6506 6278 5847 4479 3757 5780 5995 6271 6090 4721\n",
      " 4052 4362 5676 5656 6149 6267 5665 5038 3341 5504 5925 6281 6402 6257\n",
      " 4224 3772 5928 6105 6520 6541 5917 3788 3197 4069 5997 6280 5592 6459\n",
      " 4419 5657 6407 6697 6820 6750 6630 5554 5167 5847 3702 6803 6781 6917\n",
      " 5883 5453 6435 6693 6946 6642 6370 5966 4874 6015 4324 6844 6437 6640\n",
      " 4934 2729 4604 5791 6911 6736 6222 4857 4559 5115 6612 6482 6501 4671\n",
      " 5284 4692 6228 6625 6898 6484 6262 5209 3461   20 1009 5147 5520 5229\n",
      " 4109 3906 4881 5220 4709 4975 5283 4446 4562 5172 3767 5122 5125 5214\n",
      " 4316 3747 5050 5100 4531 1470 2307 1745 2115 4750 3836 5062 5080 5306\n",
      " 4240 3757 5679 6055 5398 5035 4659 4429 2787 4841 5219 5009 5107 5182\n",
      " 4280 3248 4373 5124 4934 3814 3402 1544 1379  746  573  432 1867 2451\n",
      " 1182 1432 2290]\n",
      "<class 'numpy.ndarray'>\n"
     ]
    }
   ],
   "source": [
    "print(y)\n",
    "print(type(y))"
   ]
  },
  {
   "cell_type": "code",
   "execution_count": 13,
   "metadata": {
    "colab": {},
    "colab_type": "code",
    "id": "SDmM7ra3QX1a"
   },
   "outputs": [],
   "source": [
    "# 分割日 mdayの設定\n",
    "mday = pd.to_datetime('2012-11-1')\n",
    "\n",
    "# 訓練用indexと検証用indexを作る\n",
    "train_index = df['日付'] < mday\n",
    "test_index = df['日付'] >= mday\n",
    "\n",
    "# 入力データの分割\n",
    "x_train = x[train_index]\n",
    "x_test = x[test_index]\n",
    "\n",
    "# yも同様に分割\n",
    "y_train = y[train_index]\n",
    "y_test = y[test_index]\n",
    "\n",
    "# 日付データの分割(グラフ表示用)\n",
    "dates_test = df['日付'][test_index]"
   ]
  },
  {
   "cell_type": "code",
   "execution_count": 14,
   "metadata": {
    "colab": {},
    "colab_type": "code",
    "id": "bu0aAIWjQX1c"
   },
   "outputs": [
    {
     "name": "stdout",
     "output_type": "stream",
     "text": [
      "(670, 11)\n",
      "(61, 11)\n"
     ]
    },
    {
     "data": {
      "text/html": [
       "<div>\n",
       "<style scoped>\n",
       "    .dataframe tbody tr th:only-of-type {\n",
       "        vertical-align: middle;\n",
       "    }\n",
       "\n",
       "    .dataframe tbody tr th {\n",
       "        vertical-align: top;\n",
       "    }\n",
       "\n",
       "    .dataframe thead th {\n",
       "        text-align: right;\n",
       "    }\n",
       "</style>\n",
       "<table border=\"1\" class=\"dataframe\">\n",
       "  <thead>\n",
       "    <tr style=\"text-align: right;\">\n",
       "      <th></th>\n",
       "      <th>季節</th>\n",
       "      <th>年</th>\n",
       "      <th>月</th>\n",
       "      <th>祝日</th>\n",
       "      <th>曜日</th>\n",
       "      <th>勤務日</th>\n",
       "      <th>天気</th>\n",
       "      <th>気温</th>\n",
       "      <th>体感温度</th>\n",
       "      <th>湿度</th>\n",
       "      <th>風速</th>\n",
       "    </tr>\n",
       "  </thead>\n",
       "  <tbody>\n",
       "    <tr>\n",
       "      <th>665</th>\n",
       "      <td>4</td>\n",
       "      <td>1</td>\n",
       "      <td>10</td>\n",
       "      <td>0</td>\n",
       "      <td>6</td>\n",
       "      <td>0</td>\n",
       "      <td>2</td>\n",
       "      <td>0.5300</td>\n",
       "      <td>0.5151</td>\n",
       "      <td>0.7200</td>\n",
       "      <td>0.2357</td>\n",
       "    </tr>\n",
       "    <tr>\n",
       "      <th>666</th>\n",
       "      <td>4</td>\n",
       "      <td>1</td>\n",
       "      <td>10</td>\n",
       "      <td>0</td>\n",
       "      <td>0</td>\n",
       "      <td>0</td>\n",
       "      <td>2</td>\n",
       "      <td>0.4775</td>\n",
       "      <td>0.4678</td>\n",
       "      <td>0.6946</td>\n",
       "      <td>0.3980</td>\n",
       "    </tr>\n",
       "    <tr>\n",
       "      <th>667</th>\n",
       "      <td>4</td>\n",
       "      <td>1</td>\n",
       "      <td>10</td>\n",
       "      <td>0</td>\n",
       "      <td>1</td>\n",
       "      <td>1</td>\n",
       "      <td>3</td>\n",
       "      <td>0.4400</td>\n",
       "      <td>0.4394</td>\n",
       "      <td>0.8800</td>\n",
       "      <td>0.3582</td>\n",
       "    </tr>\n",
       "    <tr>\n",
       "      <th>668</th>\n",
       "      <td>4</td>\n",
       "      <td>1</td>\n",
       "      <td>10</td>\n",
       "      <td>0</td>\n",
       "      <td>2</td>\n",
       "      <td>1</td>\n",
       "      <td>2</td>\n",
       "      <td>0.3182</td>\n",
       "      <td>0.3099</td>\n",
       "      <td>0.8255</td>\n",
       "      <td>0.2130</td>\n",
       "    </tr>\n",
       "    <tr>\n",
       "      <th>669</th>\n",
       "      <td>4</td>\n",
       "      <td>1</td>\n",
       "      <td>10</td>\n",
       "      <td>0</td>\n",
       "      <td>3</td>\n",
       "      <td>1</td>\n",
       "      <td>2</td>\n",
       "      <td>0.3575</td>\n",
       "      <td>0.3611</td>\n",
       "      <td>0.6667</td>\n",
       "      <td>0.1667</td>\n",
       "    </tr>\n",
       "  </tbody>\n",
       "</table>\n",
       "</div>"
      ],
      "text/plain": [
       "     季節  年   月  祝日  曜日  勤務日  天気     気温   体感温度     湿度     風速\n",
       "665   4  1  10   0   6    0   2 0.5300 0.5151 0.7200 0.2357\n",
       "666   4  1  10   0   0    0   2 0.4775 0.4678 0.6946 0.3980\n",
       "667   4  1  10   0   1    1   3 0.4400 0.4394 0.8800 0.3582\n",
       "668   4  1  10   0   2    1   2 0.3182 0.3099 0.8255 0.2130\n",
       "669   4  1  10   0   3    1   2 0.3575 0.3611 0.6667 0.1667"
      ]
     },
     "metadata": {},
     "output_type": "display_data"
    },
    {
     "data": {
      "text/html": [
       "<div>\n",
       "<style scoped>\n",
       "    .dataframe tbody tr th:only-of-type {\n",
       "        vertical-align: middle;\n",
       "    }\n",
       "\n",
       "    .dataframe tbody tr th {\n",
       "        vertical-align: top;\n",
       "    }\n",
       "\n",
       "    .dataframe thead th {\n",
       "        text-align: right;\n",
       "    }\n",
       "</style>\n",
       "<table border=\"1\" class=\"dataframe\">\n",
       "  <thead>\n",
       "    <tr style=\"text-align: right;\">\n",
       "      <th></th>\n",
       "      <th>季節</th>\n",
       "      <th>年</th>\n",
       "      <th>月</th>\n",
       "      <th>祝日</th>\n",
       "      <th>曜日</th>\n",
       "      <th>勤務日</th>\n",
       "      <th>天気</th>\n",
       "      <th>気温</th>\n",
       "      <th>体感温度</th>\n",
       "      <th>湿度</th>\n",
       "      <th>風速</th>\n",
       "    </tr>\n",
       "  </thead>\n",
       "  <tbody>\n",
       "    <tr>\n",
       "      <th>670</th>\n",
       "      <td>4</td>\n",
       "      <td>1</td>\n",
       "      <td>11</td>\n",
       "      <td>0</td>\n",
       "      <td>4</td>\n",
       "      <td>1</td>\n",
       "      <td>2</td>\n",
       "      <td>0.3658</td>\n",
       "      <td>0.3699</td>\n",
       "      <td>0.5817</td>\n",
       "      <td>0.1573</td>\n",
       "    </tr>\n",
       "    <tr>\n",
       "      <th>671</th>\n",
       "      <td>4</td>\n",
       "      <td>1</td>\n",
       "      <td>11</td>\n",
       "      <td>0</td>\n",
       "      <td>5</td>\n",
       "      <td>1</td>\n",
       "      <td>1</td>\n",
       "      <td>0.3550</td>\n",
       "      <td>0.3560</td>\n",
       "      <td>0.5221</td>\n",
       "      <td>0.2662</td>\n",
       "    </tr>\n",
       "    <tr>\n",
       "      <th>672</th>\n",
       "      <td>4</td>\n",
       "      <td>1</td>\n",
       "      <td>11</td>\n",
       "      <td>0</td>\n",
       "      <td>6</td>\n",
       "      <td>0</td>\n",
       "      <td>2</td>\n",
       "      <td>0.3433</td>\n",
       "      <td>0.3238</td>\n",
       "      <td>0.4913</td>\n",
       "      <td>0.2705</td>\n",
       "    </tr>\n",
       "    <tr>\n",
       "      <th>673</th>\n",
       "      <td>4</td>\n",
       "      <td>1</td>\n",
       "      <td>11</td>\n",
       "      <td>0</td>\n",
       "      <td>0</td>\n",
       "      <td>0</td>\n",
       "      <td>1</td>\n",
       "      <td>0.3258</td>\n",
       "      <td>0.3295</td>\n",
       "      <td>0.5329</td>\n",
       "      <td>0.1791</td>\n",
       "    </tr>\n",
       "    <tr>\n",
       "      <th>674</th>\n",
       "      <td>4</td>\n",
       "      <td>1</td>\n",
       "      <td>11</td>\n",
       "      <td>0</td>\n",
       "      <td>1</td>\n",
       "      <td>1</td>\n",
       "      <td>1</td>\n",
       "      <td>0.3192</td>\n",
       "      <td>0.3081</td>\n",
       "      <td>0.4942</td>\n",
       "      <td>0.2363</td>\n",
       "    </tr>\n",
       "  </tbody>\n",
       "</table>\n",
       "</div>"
      ],
      "text/plain": [
       "     季節  年   月  祝日  曜日  勤務日  天気     気温   体感温度     湿度     風速\n",
       "670   4  1  11   0   4    1   2 0.3658 0.3699 0.5817 0.1573\n",
       "671   4  1  11   0   5    1   1 0.3550 0.3560 0.5221 0.2662\n",
       "672   4  1  11   0   6    0   2 0.3433 0.3238 0.4913 0.2705\n",
       "673   4  1  11   0   0    0   1 0.3258 0.3295 0.5329 0.1791\n",
       "674   4  1  11   0   1    1   1 0.3192 0.3081 0.4942 0.2363"
      ]
     },
     "metadata": {},
     "output_type": "display_data"
    }
   ],
   "source": [
    "# 結果確認(サイズを確認)\n",
    "print(x_train.shape)\n",
    "print(x_test.shape)\n",
    "\n",
    "# 結果確認 (境界値を重点的に)\n",
    "display(x_train.tail())\n",
    "display(x_test.head())"
   ]
  },
  {
   "cell_type": "code",
   "execution_count": 15,
   "metadata": {
    "colab": {},
    "colab_type": "code",
    "id": "swSBXUKaQX1f"
   },
   "outputs": [
    {
     "name": "stdout",
     "output_type": "stream",
     "text": [
      "[ 654  670 1229 1454 1518 1518 1362  891  768 1280]\n"
     ]
    }
   ],
   "source": [
    "# 目的変数の分割結果確認\n",
    "print(y_train[:10])"
   ]
  },
  {
   "cell_type": "markdown",
   "metadata": {
    "colab_type": "text",
    "id": "Q2-s3VofQX1h"
   },
   "source": [
    "### 5.2.6 アルゴリズム選定"
   ]
  },
  {
   "cell_type": "markdown",
   "metadata": {
    "colab_type": "text",
    "id": "mXWWTis8QX1h"
   },
   "source": [
    "#### アルゴリズム選定"
   ]
  },
  {
   "cell_type": "code",
   "execution_count": 16,
   "metadata": {
    "colab": {},
    "colab_type": "code",
    "id": "LKwpKOCzQX1h"
   },
   "outputs": [],
   "source": [
    "# アルゴリズム選定\n",
    "# XGBRegressorを選定する(XGBoostの回帰版)\n",
    "from xgboost import XGBRegressor\n",
    "algorithm = XGBRegressor(objective ='reg:squarederror',\n",
    "    random_state=random_seed)"
   ]
  },
  {
   "cell_type": "markdown",
   "metadata": {
    "colab_type": "text",
    "id": "Fv2WOvE-QX1k"
   },
   "source": [
    "### 5.2.7 学習・予測"
   ]
  },
  {
   "cell_type": "code",
   "execution_count": 17,
   "metadata": {
    "colab": {},
    "colab_type": "code",
    "id": "ljWoyusUQX1k"
   },
   "outputs": [
    {
     "name": "stdout",
     "output_type": "stream",
     "text": [
      "[4927.806  4889.2686 3571.434  3637.8308 4719.999 ]\n"
     ]
    }
   ],
   "source": [
    "# 登録ユーザー利用数予測モデルの学習と予測\n",
    "\n",
    "# 学習\n",
    "algorithm.fit(x_train, y_train)\n",
    "\n",
    "# 予測\n",
    "y_pred = algorithm.predict(x_test)\n",
    "\n",
    "# 予測結果確認\n",
    "print(y_pred[:5])"
   ]
  },
  {
   "cell_type": "markdown",
   "metadata": {
    "colab_type": "text",
    "id": "5C-CqH-OQX1m"
   },
   "source": [
    "### 5.2.8 評価"
   ]
  },
  {
   "cell_type": "code",
   "execution_count": 18,
   "metadata": {
    "colab": {},
    "colab_type": "code",
    "id": "9u8JV-i0QX1m"
   },
   "outputs": [
    {
     "name": "stdout",
     "output_type": "stream",
     "text": [
      "score: 0.4206  r2_ score: 0.4206\n"
     ]
    }
   ],
   "source": [
    "# 評価(登録ユーザー利用数)\n",
    "\n",
    "# score関数の呼び出し\n",
    "score = algorithm.score(x_test, y_test)\n",
    "\n",
    "# R2値の計算\n",
    "from sklearn.metrics import r2_score\n",
    "r2_score = r2_score(y_test, y_pred)\n",
    "\n",
    "# R2 は0.5より大きければモデルとして意味があるとされる\n",
    "# 結果確認\n",
    "print(f'score: {score:.4f}  r2_ score: {r2_score:.4f}')"
   ]
  },
  {
   "cell_type": "code",
   "execution_count": 19,
   "metadata": {
    "colab": {},
    "colab_type": "code",
    "id": "uyoX2BnRQX1o"
   },
   "outputs": [
    {
     "data": {
      "image/png": "[encoded data removed]",
      "text/plain": [
       "<Figure size 432x432 with 1 Axes>"
      ]
     },
     "metadata": {
      "needs_background": "light"
     },
     "output_type": "display_data"
    }
   ],
   "source": [
    "#正解データと予測結果を散布図で比較 (登録ユーザー利用数)\n",
    "plt.figure(figsize=(6,6))\n",
    "y_max = y_test.max()\n",
    "plt.plot((0,y_max), (0, y_max), c='k')\n",
    "plt.scatter(y_test, y_pred, c='b')\n",
    "plt.title(f'正解データと予測結果の散布図(登録ユーザー利用数)\\\n",
    "  R2={score:.4f}')\n",
    "plt.grid()\n",
    "plt.show()"
   ]
  },
  {
   "cell_type": "code",
   "execution_count": 20,
   "metadata": {
    "colab": {},
    "colab_type": "code",
    "id": "9V6qZUSQQX1q"
   },
   "outputs": [
    {
     "data": {
      "image/png": "[encoded data removed]",
      "text/plain": [
       "<Figure size 576x288 with 1 Axes>"
      ]
     },
     "metadata": {
      "needs_background": "light"
     },
     "output_type": "display_data"
    }
   ],
   "source": [
    "# 時系列グラフの描画 (登録ユーザー利用数)\n",
    "import matplotlib.dates as mdates\n",
    "fig, ax = plt.subplots(figsize=(8, 4))\n",
    "\n",
    "# グラフ描画\n",
    "ax.plot(dates_test, y_test, label='正解データ', c='k')\n",
    "ax.plot(dates_test, y_pred, label='予測結果', c='b')\n",
    "\n",
    "# 日付目盛間隔\n",
    "# 木曜日ごとに日付を表示\n",
    "weeks = mdates.WeekdayLocator(byweekday=mdates.TH)\n",
    "ax.xaxis.set_major_locator(weeks)\n",
    "\n",
    "# 日付表記を90度回転\n",
    "ax.tick_params(axis='x', rotation=90)\n",
    "\n",
    "# 方眼表示など\n",
    "ax.grid()\n",
    "ax.legend()\n",
    "ax.set_title('登録ユーザー利用数予測')\n",
    "\n",
    "# 画面出力\n",
    "plt.show()"
   ]
  },
  {
   "cell_type": "markdown",
   "metadata": {
    "colab_type": "text",
    "id": "3uIRS13CQX1r"
   },
   "source": [
    "### 5.2.9 チューニング"
   ]
  },
  {
   "cell_type": "code",
   "execution_count": 21,
   "metadata": {
    "colab": {},
    "colab_type": "code",
    "id": "GqNiYqusQX1s",
    "scrolled": true
   },
   "outputs": [
    {
     "data": {
      "text/html": [
       "<div>\n",
       "<style scoped>\n",
       "    .dataframe tbody tr th:only-of-type {\n",
       "        vertical-align: middle;\n",
       "    }\n",
       "\n",
       "    .dataframe tbody tr th {\n",
       "        vertical-align: top;\n",
       "    }\n",
       "\n",
       "    .dataframe thead th {\n",
       "        text-align: right;\n",
       "    }\n",
       "</style>\n",
       "<table border=\"1\" class=\"dataframe\">\n",
       "  <thead>\n",
       "    <tr style=\"text-align: right;\">\n",
       "      <th></th>\n",
       "      <th>年</th>\n",
       "      <th>祝日</th>\n",
       "      <th>曜日</th>\n",
       "      <th>勤務日</th>\n",
       "      <th>天気</th>\n",
       "      <th>気温</th>\n",
       "      <th>体感温度</th>\n",
       "      <th>湿度</th>\n",
       "      <th>風速</th>\n",
       "      <th>月_1</th>\n",
       "      <th>月_2</th>\n",
       "      <th>月_3</th>\n",
       "      <th>月_4</th>\n",
       "      <th>月_5</th>\n",
       "      <th>月_6</th>\n",
       "      <th>月_7</th>\n",
       "      <th>月_8</th>\n",
       "      <th>月_9</th>\n",
       "      <th>月_10</th>\n",
       "      <th>月_11</th>\n",
       "      <th>月_12</th>\n",
       "      <th>季節_1</th>\n",
       "      <th>季節_2</th>\n",
       "      <th>季節_3</th>\n",
       "      <th>季節_4</th>\n",
       "    </tr>\n",
       "  </thead>\n",
       "  <tbody>\n",
       "    <tr>\n",
       "      <th>0</th>\n",
       "      <td>0</td>\n",
       "      <td>0</td>\n",
       "      <td>6</td>\n",
       "      <td>0</td>\n",
       "      <td>2</td>\n",
       "      <td>0.3442</td>\n",
       "      <td>0.3636</td>\n",
       "      <td>0.8058</td>\n",
       "      <td>0.1604</td>\n",
       "      <td>1</td>\n",
       "      <td>0</td>\n",
       "      <td>0</td>\n",
       "      <td>0</td>\n",
       "      <td>0</td>\n",
       "      <td>0</td>\n",
       "      <td>0</td>\n",
       "      <td>0</td>\n",
       "      <td>0</td>\n",
       "      <td>0</td>\n",
       "      <td>0</td>\n",
       "      <td>0</td>\n",
       "      <td>1</td>\n",
       "      <td>0</td>\n",
       "      <td>0</td>\n",
       "      <td>0</td>\n",
       "    </tr>\n",
       "    <tr>\n",
       "      <th>1</th>\n",
       "      <td>0</td>\n",
       "      <td>0</td>\n",
       "      <td>0</td>\n",
       "      <td>0</td>\n",
       "      <td>2</td>\n",
       "      <td>0.3635</td>\n",
       "      <td>0.3537</td>\n",
       "      <td>0.6961</td>\n",
       "      <td>0.2485</td>\n",
       "      <td>1</td>\n",
       "      <td>0</td>\n",
       "      <td>0</td>\n",
       "      <td>0</td>\n",
       "      <td>0</td>\n",
       "      <td>0</td>\n",
       "      <td>0</td>\n",
       "      <td>0</td>\n",
       "      <td>0</td>\n",
       "      <td>0</td>\n",
       "      <td>0</td>\n",
       "      <td>0</td>\n",
       "      <td>1</td>\n",
       "      <td>0</td>\n",
       "      <td>0</td>\n",
       "      <td>0</td>\n",
       "    </tr>\n",
       "    <tr>\n",
       "      <th>2</th>\n",
       "      <td>0</td>\n",
       "      <td>0</td>\n",
       "      <td>1</td>\n",
       "      <td>1</td>\n",
       "      <td>1</td>\n",
       "      <td>0.1964</td>\n",
       "      <td>0.1894</td>\n",
       "      <td>0.4373</td>\n",
       "      <td>0.2483</td>\n",
       "      <td>1</td>\n",
       "      <td>0</td>\n",
       "      <td>0</td>\n",
       "      <td>0</td>\n",
       "      <td>0</td>\n",
       "      <td>0</td>\n",
       "      <td>0</td>\n",
       "      <td>0</td>\n",
       "      <td>0</td>\n",
       "      <td>0</td>\n",
       "      <td>0</td>\n",
       "      <td>0</td>\n",
       "      <td>1</td>\n",
       "      <td>0</td>\n",
       "      <td>0</td>\n",
       "      <td>0</td>\n",
       "    </tr>\n",
       "    <tr>\n",
       "      <th>3</th>\n",
       "      <td>0</td>\n",
       "      <td>0</td>\n",
       "      <td>2</td>\n",
       "      <td>1</td>\n",
       "      <td>1</td>\n",
       "      <td>0.2000</td>\n",
       "      <td>0.2121</td>\n",
       "      <td>0.5904</td>\n",
       "      <td>0.1603</td>\n",
       "      <td>1</td>\n",
       "      <td>0</td>\n",
       "      <td>0</td>\n",
       "      <td>0</td>\n",
       "      <td>0</td>\n",
       "      <td>0</td>\n",
       "      <td>0</td>\n",
       "      <td>0</td>\n",
       "      <td>0</td>\n",
       "      <td>0</td>\n",
       "      <td>0</td>\n",
       "      <td>0</td>\n",
       "      <td>1</td>\n",
       "      <td>0</td>\n",
       "      <td>0</td>\n",
       "      <td>0</td>\n",
       "    </tr>\n",
       "    <tr>\n",
       "      <th>4</th>\n",
       "      <td>0</td>\n",
       "      <td>0</td>\n",
       "      <td>3</td>\n",
       "      <td>1</td>\n",
       "      <td>1</td>\n",
       "      <td>0.2270</td>\n",
       "      <td>0.2293</td>\n",
       "      <td>0.4370</td>\n",
       "      <td>0.1869</td>\n",
       "      <td>1</td>\n",
       "      <td>0</td>\n",
       "      <td>0</td>\n",
       "      <td>0</td>\n",
       "      <td>0</td>\n",
       "      <td>0</td>\n",
       "      <td>0</td>\n",
       "      <td>0</td>\n",
       "      <td>0</td>\n",
       "      <td>0</td>\n",
       "      <td>0</td>\n",
       "      <td>0</td>\n",
       "      <td>1</td>\n",
       "      <td>0</td>\n",
       "      <td>0</td>\n",
       "      <td>0</td>\n",
       "    </tr>\n",
       "  </tbody>\n",
       "</table>\n",
       "</div>"
      ],
      "text/plain": [
       "   年  祝日  曜日  勤務日  天気     気温   体感温度     湿度     風速  月_1  月_2  月_3  月_4  月_5  \\\n",
       "0  0   0   6    0   2 0.3442 0.3636 0.8058 0.1604    1    0    0    0    0   \n",
       "1  0   0   0    0   2 0.3635 0.3537 0.6961 0.2485    1    0    0    0    0   \n",
       "2  0   0   1    1   1 0.1964 0.1894 0.4373 0.2483    1    0    0    0    0   \n",
       "3  0   0   2    1   1 0.2000 0.2121 0.5904 0.1603    1    0    0    0    0   \n",
       "4  0   0   3    1   1 0.2270 0.2293 0.4370 0.1869    1    0    0    0    0   \n",
       "\n",
       "   月_6  月_7  月_8  月_9  月_10  月_11  月_12  季節_1  季節_2  季節_3  季節_4  \n",
       "0    0    0    0    0     0     0     0     1     0     0     0  \n",
       "1    0    0    0    0     0     0     0     1     0     0     0  \n",
       "2    0    0    0    0     0     0     0     1     0     0     0  \n",
       "3    0    0    0    0     0     0     0     1     0     0     0  \n",
       "4    0    0    0    0     0     0     0     1     0     0     0  "
      ]
     },
     "metadata": {},
     "output_type": "display_data"
    }
   ],
   "source": [
    "# 項目をone hot encodeするための関数\n",
    "def enc(df, column):\n",
    "    df_dummy = pd.get_dummies(df[column], prefix=column)\n",
    "    df = pd.concat([df.drop([column],axis=1),df_dummy],axis=1)\n",
    "    return df\n",
    "\n",
    "# 項目「月」「季節」をone hot encodingする\n",
    "\n",
    "x2 = x.copy()\n",
    "x2 = enc(x2, '月')\n",
    "x2 = enc(x2, '季節')\n",
    "\n",
    "# 結果確認\n",
    "display(x2.head())"
   ]
  },
  {
   "cell_type": "code",
   "execution_count": 22,
   "metadata": {
    "colab": {},
    "colab_type": "code",
    "id": "RLLpeCxtQX1t"
   },
   "outputs": [
    {
     "name": "stdout",
     "output_type": "stream",
     "text": [
      "[4654.571  4324.7354 3174.4817 3028.7585 4276.959 ]\n"
     ]
    }
   ],
   "source": [
    "# 登録利用者モデル(チューニング後)\n",
    "\n",
    "# mdayを基準に入力データを分割\n",
    "x2_train = x2[train_index]\n",
    "x2_test = x2[test_index]\n",
    "\n",
    "#　アルゴリズム選定\n",
    "algorithm2 = XGBRegressor(objective ='reg:squarederror',\n",
    "    random_state=random_seed)\n",
    "\n",
    "# 学習\n",
    "algorithm2.fit(x2_train, y_train)\n",
    "\n",
    "# 予測\n",
    "y_pred2 = algorithm2.predict(x2_test)\n",
    "\n",
    "# 予測結果確認\n",
    "print(y_pred2[:5])"
   ]
  },
  {
   "cell_type": "code",
   "execution_count": 23,
   "metadata": {
    "colab": {},
    "colab_type": "code",
    "id": "rOdYliVLQX1v"
   },
   "outputs": [
    {
     "name": "stdout",
     "output_type": "stream",
     "text": [
      "score: 0.5099\n"
     ]
    }
   ],
   "source": [
    "# 評価(登録利用者) (チューニング後)\n",
    "\n",
    "# score関数の呼び出し\n",
    "score2 = algorithm2.score(x2_test, y_test)\n",
    "\n",
    "# 結果確認\n",
    "print(f'score: {score2:.4f}')"
   ]
  },
  {
   "cell_type": "code",
   "execution_count": 24,
   "metadata": {
    "colab": {},
    "colab_type": "code",
    "id": "1Bg0SozuQX1x"
   },
   "outputs": [
    {
     "data": {
      "image/png": "[encoded data removed]",
      "text/plain": [
       "<Figure size 432x432 with 1 Axes>"
      ]
     },
     "metadata": {
      "needs_background": "light"
     },
     "output_type": "display_data"
    }
   ],
   "source": [
    "#正解データと予測結果を散布図で比較 (登録利用者)\n",
    "plt.figure(figsize=(6,6))\n",
    "y_max = y_test.max()\n",
    "plt.plot((0,y_max), (0, y_max), c='k')\n",
    "plt.scatter(y_test, y_pred2, c='b')\n",
    "plt.title(f'正解データと予測結果の散布図(登録ユーザー利用数) R2={score2:.4f}')\n",
    "plt.grid()\n",
    "plt.show()"
   ]
  },
  {
   "cell_type": "code",
   "execution_count": 25,
   "metadata": {
    "colab": {},
    "colab_type": "code",
    "id": "G3Qw1jISQX1z"
   },
   "outputs": [
    {
     "data": {
      "image/png": "[encoded data removed]",
      "text/plain": [
       "<Figure size 576x288 with 1 Axes>"
      ]
     },
     "metadata": {
      "needs_background": "light"
     },
     "output_type": "display_data"
    }
   ],
   "source": [
    "# 時系列グラフの描画 (チューニング後 登録ユーザー利用数)\n",
    "import matplotlib.dates as mdates\n",
    "fig, ax = plt.subplots(figsize=(8, 4))\n",
    "\n",
    "# グラフ描画\n",
    "ax.plot(dates_test, y_test, label='正解データ', c='k')\n",
    "ax.plot(dates_test, y_pred, label='予測結果1', c='c')\n",
    "ax.plot(dates_test, y_pred2, label='予測結果2', c='b')\n",
    "\n",
    "# 日付目盛間隔\n",
    "weeks = mdates.WeekdayLocator(byweekday=mdates.TH)\n",
    "ax.xaxis.set_major_locator(weeks)\n",
    "\n",
    "# 日付書式\n",
    "ax.tick_params(axis='x', rotation=90)\n",
    "\n",
    "# 方眼表示など\n",
    "ax.grid()\n",
    "ax.legend()\n",
    "ax.set_title('登録ユーザー利用数予測')\n",
    "\n",
    "# 画面出力\n",
    "plt.show()"
   ]
  },
  {
   "cell_type": "markdown",
   "metadata": {
    "colab_type": "text",
    "id": "-xw0CiQwQX11"
   },
   "source": [
    "### 5.2.10 重要度分析"
   ]
  },
  {
   "cell_type": "code",
   "execution_count": 26,
   "metadata": {
    "colab": {},
    "colab_type": "code",
    "id": "7sXNO5ayQX11"
   },
   "outputs": [
    {
     "data": {
      "image/png": "[encoded data removed]",
      "text/plain": [
       "<Figure size 576x288 with 1 Axes>"
      ]
     },
     "metadata": {
      "needs_background": "light"
     },
     "output_type": "display_data"
    }
   ],
   "source": [
    "# 登録ユーザー利用数に対する重要度分析\n",
    "import xgboost as xgb\n",
    "fig, ax = plt.subplots(figsize=(8, 4))\n",
    "xgb.plot_importance(algorithm, ax=ax, height=0.8,\n",
    "    importance_type='gain', show_values=False,\n",
    "    title='重要度分析(登録ユーザー利用数)')\n",
    "plt.show()"
   ]
  },
  {
   "cell_type": "code",
   "execution_count": null,
   "metadata": {
    "colab": {},
    "colab_type": "code",
    "id": "s70iFjkzQX13"
   },
   "outputs": [],
   "source": []
  }
 ],
 "metadata": {
  "colab": {
   "collapsed_sections": [],
   "name": "ch05_02_bike_sharing.ipynb",
   "provenance": []
  },
  "kernelspec": {
   "display_name": "Python 3",
   "language": "python",
   "name": "python3"
  },
  "language_info": {
   "codemirror_mode": {
    "name": "ipython",
    "version": 3
   },
   "file_extension": ".py",
   "mimetype": "text/x-python",
   "name": "python",
   "nbconvert_exporter": "python",
   "pygments_lexer": "ipython3",
   "version": "3.8.10"
  }
 },
 "nbformat": 4,
 "nbformat_minor": 1
}
