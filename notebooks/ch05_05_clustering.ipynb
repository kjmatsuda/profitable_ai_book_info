{
 "cells": [
  {
   "cell_type": "markdown",
   "metadata": {
    "colab_type": "text",
    "id": "ORsio2qVD3Rl"
   },
   "source": [
    "## 5.5 顧客層に応じた販売戦略(クラスタリング、次元圧縮)\n"
   ]
  },
  {
   "cell_type": "markdown",
   "metadata": {
    "colab_type": "text",
    "id": "060CpHNuD3Rm"
   },
   "source": [
    "### 共通事前処理"
   ]
  },
  {
   "cell_type": "code",
   "execution_count": 1,
   "metadata": {
    "colab": {
     "base_uri": "https://localhost:8080/",
     "height": 34
    },
    "colab_type": "code",
    "id": "euFbjnbRD3Rn",
    "outputId": "2402c260-0309-47c4-9eb5-cb211f8892e8"
   },
   "outputs": [
    {
     "name": "stdout",
     "output_type": "stream",
     "text": [
      "Requirement already satisfied: six>=1.5 in /home/koji/.local/lib/python3.8/site-packages (from python-dateutil>=2.7->matplotlib->japanize-matplotlib) (1.12.0)\r\n"
     ]
    }
   ],
   "source": [
    "# 日本語化ライブラリ導入\n",
    "!pip install japanize-matplotlib | tail -n 1"
   ]
  },
  {
   "cell_type": "code",
   "execution_count": 2,
   "metadata": {
    "colab": {},
    "colab_type": "code",
    "id": "Lyt_vTxUD3Rq"
   },
   "outputs": [],
   "source": [
    "# 共通事前処理\n",
    "\n",
    "# 余分なワーニングを非表示にする\n",
    "import warnings\n",
    "warnings.filterwarnings('ignore')\n",
    "\n",
    "# 必要ライブラリのimport\n",
    "import pandas as pd\n",
    "import numpy as np\n",
    "import matplotlib.pyplot as plt\n",
    "\n",
    "# matplotlib日本語化対応\n",
    "import japanize_matplotlib\n",
    "\n",
    "# データフレーム表示用関数\n",
    "from IPython.display import display\n",
    "\n",
    "# 表示オプション調整\n",
    "# numpyの浮動小数点の表示精度\n",
    "np.set_printoptions(suppress=True, precision=4)\n",
    "\n",
    "# pandasでの浮動小数点の表示精度\n",
    "pd.options.display.float_format = '{:.4f}'.format\n",
    "\n",
    "# データフレームですべての項目を表示\n",
    "pd.set_option(\"display.max_columns\",None)\n",
    "\n",
    "# グラフのデフォルトフォント指定\n",
    "plt.rcParams[\"font.size\"] = 14\n",
    "\n",
    "# 乱数の種\n",
    "random_seed = 123"
   ]
  },
  {
   "cell_type": "markdown",
   "metadata": {
    "colab_type": "text",
    "id": "HQlDUVzRD3Rs"
   },
   "source": [
    "### オリジナルURL\n",
    "Wholesale customers Data Set \n",
    "\n",
    "https://archive.ics.uci.edu/ml/datasets/wholesale+customers"
   ]
  },
  {
   "cell_type": "markdown",
   "metadata": {
    "colab_type": "text",
    "id": "iB_ocZwOD3Rt"
   },
   "source": [
    "### 5.5.4 データ読み込みからデータ確認まで"
   ]
  },
  {
   "cell_type": "markdown",
   "metadata": {
    "colab_type": "text",
    "id": "zNKorSZmD3Rt"
   },
   "source": [
    "#### データ読み込み"
   ]
  },
  {
   "cell_type": "code",
   "execution_count": 4,
   "metadata": {
    "colab": {},
    "colab_type": "code",
    "id": "TsPBG-ECD3Ru"
   },
   "outputs": [],
   "source": [
    "# データ読み込み\n",
    "# 2023/06/08 これはリンク切れてるようだ...\n",
    "# url = 'https://archive.ics.uci.edu/ml/machine-learning-databases/00292/Wholesale%20customers%20data.csv'\n",
    "# df = pd.read_csv(url)\n",
    "# 代わりにローカルのファイルを参照する\n",
    "df = pd.read_csv('../data/Wholesale customers data.csv')\n",
    "\n",
    "# 日本語に変更\n",
    "columns = ['販売チャネル', '地域', '生鮮食品', '乳製品', '食料品', \n",
    "    '冷凍食品', '洗剤_紙製品', '総菜']\n",
    "df.columns = columns"
   ]
  },
  {
   "cell_type": "markdown",
   "metadata": {
    "colab_type": "text",
    "id": "oTLRFKx3D3Rw"
   },
   "source": [
    "#### データ確認"
   ]
  },
  {
   "cell_type": "code",
   "execution_count": 5,
   "metadata": {
    "colab": {
     "base_uri": "https://localhost:8080/",
     "height": 213
    },
    "colab_type": "code",
    "id": "gKvGiyRXD3Rw",
    "outputId": "fcc57a18-e2f1-44f1-d238-47dc58e2c32a"
   },
   "outputs": [
    {
     "data": {
      "text/html": [
       "<div>\n",
       "<style scoped>\n",
       "    .dataframe tbody tr th:only-of-type {\n",
       "        vertical-align: middle;\n",
       "    }\n",
       "\n",
       "    .dataframe tbody tr th {\n",
       "        vertical-align: top;\n",
       "    }\n",
       "\n",
       "    .dataframe thead th {\n",
       "        text-align: right;\n",
       "    }\n",
       "</style>\n",
       "<table border=\"1\" class=\"dataframe\">\n",
       "  <thead>\n",
       "    <tr style=\"text-align: right;\">\n",
       "      <th></th>\n",
       "      <th>販売チャネル</th>\n",
       "      <th>地域</th>\n",
       "      <th>生鮮食品</th>\n",
       "      <th>乳製品</th>\n",
       "      <th>食料品</th>\n",
       "      <th>冷凍食品</th>\n",
       "      <th>洗剤_紙製品</th>\n",
       "      <th>総菜</th>\n",
       "    </tr>\n",
       "  </thead>\n",
       "  <tbody>\n",
       "    <tr>\n",
       "      <th>0</th>\n",
       "      <td>2</td>\n",
       "      <td>3</td>\n",
       "      <td>12669</td>\n",
       "      <td>9656</td>\n",
       "      <td>7561</td>\n",
       "      <td>214</td>\n",
       "      <td>2674</td>\n",
       "      <td>1338</td>\n",
       "    </tr>\n",
       "    <tr>\n",
       "      <th>1</th>\n",
       "      <td>2</td>\n",
       "      <td>3</td>\n",
       "      <td>7057</td>\n",
       "      <td>9810</td>\n",
       "      <td>9568</td>\n",
       "      <td>1762</td>\n",
       "      <td>3293</td>\n",
       "      <td>1776</td>\n",
       "    </tr>\n",
       "    <tr>\n",
       "      <th>2</th>\n",
       "      <td>2</td>\n",
       "      <td>3</td>\n",
       "      <td>6353</td>\n",
       "      <td>8808</td>\n",
       "      <td>7684</td>\n",
       "      <td>2405</td>\n",
       "      <td>3516</td>\n",
       "      <td>7844</td>\n",
       "    </tr>\n",
       "    <tr>\n",
       "      <th>3</th>\n",
       "      <td>1</td>\n",
       "      <td>3</td>\n",
       "      <td>13265</td>\n",
       "      <td>1196</td>\n",
       "      <td>4221</td>\n",
       "      <td>6404</td>\n",
       "      <td>507</td>\n",
       "      <td>1788</td>\n",
       "    </tr>\n",
       "    <tr>\n",
       "      <th>4</th>\n",
       "      <td>2</td>\n",
       "      <td>3</td>\n",
       "      <td>22615</td>\n",
       "      <td>5410</td>\n",
       "      <td>7198</td>\n",
       "      <td>3915</td>\n",
       "      <td>1777</td>\n",
       "      <td>5185</td>\n",
       "    </tr>\n",
       "  </tbody>\n",
       "</table>\n",
       "</div>"
      ],
      "text/plain": [
       "   販売チャネル  地域   生鮮食品   乳製品   食料品  冷凍食品  洗剤_紙製品    総菜\n",
       "0       2   3  12669  9656  7561   214    2674  1338\n",
       "1       2   3   7057  9810  9568  1762    3293  1776\n",
       "2       2   3   6353  8808  7684  2405    3516  7844\n",
       "3       1   3  13265  1196  4221  6404     507  1788\n",
       "4       2   3  22615  5410  7198  3915    1777  5185"
      ]
     },
     "metadata": {},
     "output_type": "display_data"
    },
    {
     "name": "stdout",
     "output_type": "stream",
     "text": [
      "(440, 8)\n"
     ]
    }
   ],
   "source": [
    "# データ内容確認\n",
    "display(df.head())\n",
    "\n",
    "# サイズ確認\n",
    "print(df.shape)"
   ]
  },
  {
   "cell_type": "code",
   "execution_count": 6,
   "metadata": {
    "colab": {
     "base_uri": "https://localhost:8080/",
     "height": 175
    },
    "colab_type": "code",
    "id": "Z1WIzw_tD3Rz",
    "outputId": "896dd8bc-e617-42c9-e9b8-85233b1dcc13"
   },
   "outputs": [
    {
     "name": "stdout",
     "output_type": "stream",
     "text": [
      "販売チャネル    0\n",
      "地域        0\n",
      "生鮮食品      0\n",
      "乳製品       0\n",
      "食料品       0\n",
      "冷凍食品      0\n",
      "洗剤_紙製品    0\n",
      "総菜        0\n",
      "dtype: int64\n"
     ]
    }
   ],
   "source": [
    "# 欠損値確認\n",
    "print(df.isnull().sum())"
   ]
  },
  {
   "cell_type": "code",
   "execution_count": 7,
   "metadata": {
    "colab": {
     "base_uri": "https://localhost:8080/",
     "height": 158
    },
    "colab_type": "code",
    "id": "j-2hfTBnD3R1",
    "outputId": "ac0d6861-0ed7-406d-d5d5-f57bffeb4eaa"
   },
   "outputs": [
    {
     "name": "stdout",
     "output_type": "stream",
     "text": [
      "1    298\n",
      "2    142\n",
      "Name: 販売チャネル, dtype: int64\n",
      "\n",
      "3    316\n",
      "1     77\n",
      "2     47\n",
      "Name: 地域, dtype: int64\n"
     ]
    }
   ],
   "source": [
    "# 販売チャネルのコード値確認\n",
    "print(df['販売チャネル'].value_counts())\n",
    "print()\n",
    "\n",
    "# 地域のコード値確認\n",
    "print(df['地域'].value_counts())"
   ]
  },
  {
   "cell_type": "markdown",
   "metadata": {
    "colab_type": "text",
    "id": "zSMqakKJD3R3"
   },
   "source": [
    "#### 販売チャネルのコード値の意味\n",
    "1.  Horeca(ホテル・レストラン・カフェ) 298 \n",
    "2. Retail(小売り) 142 "
   ]
  },
  {
   "cell_type": "markdown",
   "metadata": {
    "colab_type": "text",
    "id": "aLARYhrsD3R4"
   },
   "source": [
    "#### 地域のコード値の意味\n",
    "1.  Lisbon(リスボン) 77 \n",
    "2. Oporto(オプルトまたはポルト) 47 \n",
    "3. Other Region(その他) 316 \n",
    "\n"
   ]
  },
  {
   "cell_type": "markdown",
   "metadata": {
    "colab_type": "text",
    "id": "wS0QnunZD3R4"
   },
   "source": [
    "#### ヒストグラム表示"
   ]
  },
  {
   "cell_type": "code",
   "execution_count": 8,
   "metadata": {
    "colab": {
     "base_uri": "https://localhost:8080/",
     "height": 577
    },
    "colab_type": "code",
    "id": "e7El541nD3R5",
    "outputId": "c2a62863-b9c4-4808-d124-bf8d480d3579",
    "scrolled": false
   },
   "outputs": [
    {
     "data": {
      "image/png": "[encoded data removed]",
      "text/plain": [
       "<Figure size 432x288 with 6 Axes>"
      ]
     },
     "metadata": {
      "needs_background": "light"
     },
     "output_type": "display_data"
    }
   ],
   "source": [
    "# 販売チャネルと地域を落としたデータを作る\n",
    "df2 = df.drop(['販売チャネル', '地域'], axis=1)\n",
    "\n",
    "# 分析対象項目のヒストグラム表示\n",
    "from pylab import rcParams\n",
    "rcParams['figure.figsize'] = (8, 8)\n",
    "df2.hist(bins=20)\n",
    "plt.tight_layout() \n",
    "plt.show()"
   ]
  },
  {
   "cell_type": "markdown",
   "metadata": {
    "colab_type": "text",
    "id": "qI5f31AtD3R7"
   },
   "source": [
    "### 5.5.5 クラスタリングの実施"
   ]
  },
  {
   "cell_type": "code",
   "execution_count": 9,
   "metadata": {
    "colab": {},
    "colab_type": "code",
    "id": "CfEPfY8cD3R7"
   },
   "outputs": [],
   "source": [
    "# データ前処理とデータ分割は不要\n",
    "\n",
    "# アルゴリズムの選択\n",
    "from sklearn.cluster import KMeans\n",
    "\n",
    "# グループ数を定義\n",
    "clusters=4\n",
    "\n",
    "# アルゴリズムの定義\n",
    "algorithm = KMeans(n_clusters=clusters, \n",
    "    random_state=random_seed)"
   ]
  },
  {
   "cell_type": "code",
   "execution_count": 10,
   "metadata": {
    "colab": {
     "base_uri": "https://localhost:8080/",
     "height": 34
    },
    "colab_type": "code",
    "id": "xfGbHcwoD3R9",
    "outputId": "eb987da4-502b-40a2-8b9a-e4a5a4d52dd2"
   },
   "outputs": [
    {
     "name": "stdout",
     "output_type": "stream",
     "text": [
      "[1 2 1 1 0 1 1 1 1 2 2 1 0 2 0 1 2 1 1 1]\n"
     ]
    }
   ],
   "source": [
    "# 学習、予測の実施\n",
    "y_pred = algorithm.fit_predict(df2)\n",
    "\n",
    "# 結果の一部確認\n",
    "print(y_pred[:20])"
   ]
  },
  {
   "cell_type": "markdown",
   "metadata": {
    "colab_type": "text",
    "id": "mZxGwWUDD3R_"
   },
   "source": [
    "### 5.5.6 クラスタリング結果の分析"
   ]
  },
  {
   "cell_type": "markdown",
   "metadata": {
    "colab_type": "text",
    "id": "vPbPUf85D3R_"
   },
   "source": [
    "#### グループ別平均値計算"
   ]
  },
  {
   "cell_type": "code",
   "execution_count": 11,
   "metadata": {},
   "outputs": [
    {
     "name": "stdout",
     "output_type": "stream",
     "text": [
      "<class 'numpy.ndarray'>\n",
      "[1 2 1 1 0 1 1 1 1 2 2 1 0 2 0 1 2 1 1 1 1 1 0 3 0 1 1 1 2 0 1 1 1 0 1 2 0\n",
      " 2 2 0 0 1 2 2 1 2 2 3 1 2 1 1 0 2 0 1 2 2 1 1 1 3 1 2 1 3 1 1 1 1 1 2 1 1\n",
      " 1 1 1 2 1 1 1 2 2 1 1 3 3 0 1 0 1 1 3 1 2 1 1 1 1 1 2 2 1 0 1 1 2 2 1 2 1\n",
      " 2 1 1 1 1 1 1 1 1 1 1 1 1 0 0 1 1 1 0 1 1 1 1 1 1 1 1 1 1 1 0 0 1 1 2 1 1\n",
      " 1 0 1 1 1 1 1 2 2 1 2 2 2 1 1 2 1 2 2 1 1 1 2 2 1 2 1 2 0 1 1 1 1 0 2 3 1\n",
      " 1 1 2 2 2 1 1 1 2 1 1 0 2 1 1 2 2 0 1 1 2 1 1 1 2 1 3 1 1 2 2 2 1 2 1 1 2\n",
      " 1 1 1 1 1 1 1 1 1 1 0 1 1 1 1 1 1 0 0 0 1 1 2 2 1 1 1 1 1 3 1 0 1 0 1 1 0\n",
      " 0 1 1 1 1 2 2 2 1 2 1 1 1 1 0 1 1 0 1 1 1 1 1 0 0 0 0 1 1 1 0 1 1 1 2 1 1\n",
      " 1 1 1 1 1 2 2 2 2 2 2 1 1 2 1 0 2 1 1 2 1 1 1 2 1 1 1 1 0 0 1 1 1 1 1 2 1\n",
      " 3 1 0 1 1 1 1 2 2 1 2 1 1 2 0 1 2 1 2 1 2 1 1 1 2 1 1 1 1 1 1 1 1 1 1 1 1\n",
      " 0 1 1 1 1 1 2 0 1 1 0 1 0 1 2 1 1 1 1 1 1 1 1 0 1 1 2 1 1 1 1 0 0 0 1 1 0\n",
      " 2 1 1 1 1 2 1 1 1 2 2 2 1 2 1 0 1 1 1 2 0 1 1 2 1 1 1 1 0 0 2 1 1]\n"
     ]
    }
   ],
   "source": [
    "print(type(y_pred))\n",
    "print(y_pred)"
   ]
  },
  {
   "cell_type": "code",
   "execution_count": 12,
   "metadata": {},
   "outputs": [
    {
     "data": {
      "text/html": [
       "<div>\n",
       "<style scoped>\n",
       "    .dataframe tbody tr th:only-of-type {\n",
       "        vertical-align: middle;\n",
       "    }\n",
       "\n",
       "    .dataframe tbody tr th {\n",
       "        vertical-align: top;\n",
       "    }\n",
       "\n",
       "    .dataframe thead th {\n",
       "        text-align: right;\n",
       "    }\n",
       "</style>\n",
       "<table border=\"1\" class=\"dataframe\">\n",
       "  <thead>\n",
       "    <tr style=\"text-align: right;\">\n",
       "      <th></th>\n",
       "      <th>生鮮食品</th>\n",
       "      <th>乳製品</th>\n",
       "      <th>食料品</th>\n",
       "      <th>冷凍食品</th>\n",
       "      <th>洗剤_紙製品</th>\n",
       "      <th>総菜</th>\n",
       "    </tr>\n",
       "  </thead>\n",
       "  <tbody>\n",
       "    <tr>\n",
       "      <th>0</th>\n",
       "      <td>12669</td>\n",
       "      <td>9656</td>\n",
       "      <td>7561</td>\n",
       "      <td>214</td>\n",
       "      <td>2674</td>\n",
       "      <td>1338</td>\n",
       "    </tr>\n",
       "    <tr>\n",
       "      <th>1</th>\n",
       "      <td>7057</td>\n",
       "      <td>9810</td>\n",
       "      <td>9568</td>\n",
       "      <td>1762</td>\n",
       "      <td>3293</td>\n",
       "      <td>1776</td>\n",
       "    </tr>\n",
       "    <tr>\n",
       "      <th>2</th>\n",
       "      <td>6353</td>\n",
       "      <td>8808</td>\n",
       "      <td>7684</td>\n",
       "      <td>2405</td>\n",
       "      <td>3516</td>\n",
       "      <td>7844</td>\n",
       "    </tr>\n",
       "    <tr>\n",
       "      <th>3</th>\n",
       "      <td>13265</td>\n",
       "      <td>1196</td>\n",
       "      <td>4221</td>\n",
       "      <td>6404</td>\n",
       "      <td>507</td>\n",
       "      <td>1788</td>\n",
       "    </tr>\n",
       "    <tr>\n",
       "      <th>4</th>\n",
       "      <td>22615</td>\n",
       "      <td>5410</td>\n",
       "      <td>7198</td>\n",
       "      <td>3915</td>\n",
       "      <td>1777</td>\n",
       "      <td>5185</td>\n",
       "    </tr>\n",
       "    <tr>\n",
       "      <th>...</th>\n",
       "      <td>...</td>\n",
       "      <td>...</td>\n",
       "      <td>...</td>\n",
       "      <td>...</td>\n",
       "      <td>...</td>\n",
       "      <td>...</td>\n",
       "    </tr>\n",
       "    <tr>\n",
       "      <th>435</th>\n",
       "      <td>29703</td>\n",
       "      <td>12051</td>\n",
       "      <td>16027</td>\n",
       "      <td>13135</td>\n",
       "      <td>182</td>\n",
       "      <td>2204</td>\n",
       "    </tr>\n",
       "    <tr>\n",
       "      <th>436</th>\n",
       "      <td>39228</td>\n",
       "      <td>1431</td>\n",
       "      <td>764</td>\n",
       "      <td>4510</td>\n",
       "      <td>93</td>\n",
       "      <td>2346</td>\n",
       "    </tr>\n",
       "    <tr>\n",
       "      <th>437</th>\n",
       "      <td>14531</td>\n",
       "      <td>15488</td>\n",
       "      <td>30243</td>\n",
       "      <td>437</td>\n",
       "      <td>14841</td>\n",
       "      <td>1867</td>\n",
       "    </tr>\n",
       "    <tr>\n",
       "      <th>438</th>\n",
       "      <td>10290</td>\n",
       "      <td>1981</td>\n",
       "      <td>2232</td>\n",
       "      <td>1038</td>\n",
       "      <td>168</td>\n",
       "      <td>2125</td>\n",
       "    </tr>\n",
       "    <tr>\n",
       "      <th>439</th>\n",
       "      <td>2787</td>\n",
       "      <td>1698</td>\n",
       "      <td>2510</td>\n",
       "      <td>65</td>\n",
       "      <td>477</td>\n",
       "      <td>52</td>\n",
       "    </tr>\n",
       "  </tbody>\n",
       "</table>\n",
       "<p>440 rows × 6 columns</p>\n",
       "</div>"
      ],
      "text/plain": [
       "      生鮮食品    乳製品    食料品   冷凍食品  洗剤_紙製品    総菜\n",
       "0    12669   9656   7561    214    2674  1338\n",
       "1     7057   9810   9568   1762    3293  1776\n",
       "2     6353   8808   7684   2405    3516  7844\n",
       "3    13265   1196   4221   6404     507  1788\n",
       "4    22615   5410   7198   3915    1777  5185\n",
       "..     ...    ...    ...    ...     ...   ...\n",
       "435  29703  12051  16027  13135     182  2204\n",
       "436  39228   1431    764   4510      93  2346\n",
       "437  14531  15488  30243    437   14841  1867\n",
       "438  10290   1981   2232   1038     168  2125\n",
       "439   2787   1698   2510     65     477    52\n",
       "\n",
       "[440 rows x 6 columns]"
      ]
     },
     "execution_count": 12,
     "metadata": {},
     "output_type": "execute_result"
    }
   ],
   "source": [
    "df2"
   ]
  },
  {
   "cell_type": "code",
   "execution_count": 13,
   "metadata": {
    "colab": {
     "base_uri": "https://localhost:8080/",
     "height": 166
    },
    "colab_type": "code",
    "id": "q24sMbpvD3SA",
    "outputId": "1cc190f4-6a8d-4b10-a826-1fcd42ae80ac"
   },
   "outputs": [
    {
     "data": {
      "text/html": [
       "<div>\n",
       "<style scoped>\n",
       "    .dataframe tbody tr th:only-of-type {\n",
       "        vertical-align: middle;\n",
       "    }\n",
       "\n",
       "    .dataframe tbody tr th {\n",
       "        vertical-align: top;\n",
       "    }\n",
       "\n",
       "    .dataframe thead th {\n",
       "        text-align: right;\n",
       "    }\n",
       "</style>\n",
       "<table border=\"1\" class=\"dataframe\">\n",
       "  <thead>\n",
       "    <tr style=\"text-align: right;\">\n",
       "      <th></th>\n",
       "      <th>生鮮食品</th>\n",
       "      <th>乳製品</th>\n",
       "      <th>食料品</th>\n",
       "      <th>冷凍食品</th>\n",
       "      <th>洗剤_紙製品</th>\n",
       "      <th>総菜</th>\n",
       "    </tr>\n",
       "  </thead>\n",
       "  <tbody>\n",
       "    <tr>\n",
       "      <th>0</th>\n",
       "      <td>36144.4828</td>\n",
       "      <td>5471.4655</td>\n",
       "      <td>6128.7931</td>\n",
       "      <td>6298.6552</td>\n",
       "      <td>1064.0000</td>\n",
       "      <td>2316.7241</td>\n",
       "    </tr>\n",
       "    <tr>\n",
       "      <th>1</th>\n",
       "      <td>9087.4638</td>\n",
       "      <td>3027.4275</td>\n",
       "      <td>3753.5145</td>\n",
       "      <td>2817.9855</td>\n",
       "      <td>1003.0036</td>\n",
       "      <td>1040.5254</td>\n",
       "    </tr>\n",
       "    <tr>\n",
       "      <th>2</th>\n",
       "      <td>4808.8421</td>\n",
       "      <td>10525.0105</td>\n",
       "      <td>16909.7895</td>\n",
       "      <td>1462.5895</td>\n",
       "      <td>7302.4000</td>\n",
       "      <td>1650.8842</td>\n",
       "    </tr>\n",
       "    <tr>\n",
       "      <th>3</th>\n",
       "      <td>19888.2727</td>\n",
       "      <td>36142.3636</td>\n",
       "      <td>45517.4545</td>\n",
       "      <td>6328.9091</td>\n",
       "      <td>21417.0909</td>\n",
       "      <td>8414.0000</td>\n",
       "    </tr>\n",
       "  </tbody>\n",
       "</table>\n",
       "</div>"
      ],
      "text/plain": [
       "        生鮮食品        乳製品        食料品      冷凍食品     洗剤_紙製品        総菜\n",
       "0 36144.4828  5471.4655  6128.7931 6298.6552  1064.0000 2316.7241\n",
       "1  9087.4638  3027.4275  3753.5145 2817.9855  1003.0036 1040.5254\n",
       "2  4808.8421 10525.0105 16909.7895 1462.5895  7302.4000 1650.8842\n",
       "3 19888.2727 36142.3636 45517.4545 6328.9091 21417.0909 8414.0000"
      ]
     },
     "metadata": {},
     "output_type": "display_data"
    }
   ],
   "source": [
    "# グループごとの平均値計算\n",
    "df_cluster = df2.groupby(y_pred).mean()\n",
    "display(df_cluster)"
   ]
  },
  {
   "cell_type": "markdown",
   "metadata": {
    "colab_type": "text",
    "id": "eKzdYkL8D3SC"
   },
   "source": [
    "#### グループ別グラフ表示"
   ]
  },
  {
   "cell_type": "code",
   "execution_count": 14,
   "metadata": {
    "colab": {
     "base_uri": "https://localhost:8080/",
     "height": 373
    },
    "colab_type": "code",
    "id": "wVb9iCt0D3SC",
    "outputId": "8058c1e3-92c7-4ec9-fb85-172ac4d14a41"
   },
   "outputs": [
    {
     "data": {
      "image/png": "[encoded data removed]",
      "text/plain": [
       "<Figure size 720x432 with 1 Axes>"
      ]
     },
     "metadata": {
      "needs_background": "light"
     },
     "output_type": "display_data"
    }
   ],
   "source": [
    "# グループ別の棒グラフ表示\n",
    "df_cluster.plot(kind='bar',stacked=True,\n",
    "    figsize=(10, 6),colormap='jet')\n",
    "plt.show()"
   ]
  },
  {
   "cell_type": "markdown",
   "metadata": {
    "colab_type": "text",
    "id": "eFg89g0wD3SE"
   },
   "source": [
    "#### 分析結果\n",
    "\n",
    "* **0**: 生鮮食品中心\n",
    "* **1**: 食料品中心\n",
    "* **2**: 大量購入\n",
    "* **3**: 少量購入"
   ]
  },
  {
   "cell_type": "markdown",
   "metadata": {
    "colab_type": "text",
    "id": "QGmD9ipaD3SF"
   },
   "source": [
    "#### グループと販売チャネル・地域との関係"
   ]
  },
  {
   "cell_type": "code",
   "execution_count": 15,
   "metadata": {
    "colab": {
     "base_uri": "https://localhost:8080/",
     "height": 887
    },
    "colab_type": "code",
    "id": "vzq4FBEHD3SF",
    "outputId": "0495656b-b77e-4285-a952-0adb33d9283e",
    "scrolled": false
   },
   "outputs": [
    {
     "name": "stdout",
     "output_type": "stream",
     "text": [
      "==== グループ0 ====\n"
     ]
    },
    {
     "data": {
      "image/png": "[encoded data removed]",
      "text/plain": [
       "<Figure size 432x216 with 2 Axes>"
      ]
     },
     "metadata": {
      "needs_background": "light"
     },
     "output_type": "display_data"
    },
    {
     "name": "stdout",
     "output_type": "stream",
     "text": [
      "==== グループ1 ====\n"
     ]
    },
    {
     "data": {
      "image/png": "[encoded data removed]",
      "text/plain": [
       "<Figure size 432x216 with 2 Axes>"
      ]
     },
     "metadata": {
      "needs_background": "light"
     },
     "output_type": "display_data"
    },
    {
     "name": "stdout",
     "output_type": "stream",
     "text": [
      "==== グループ2 ====\n"
     ]
    },
    {
     "data": {
      "image/png": "[encoded data removed]",
      "text/plain": [
       "<Figure size 432x216 with 2 Axes>"
      ]
     },
     "metadata": {
      "needs_background": "light"
     },
     "output_type": "display_data"
    },
    {
     "name": "stdout",
     "output_type": "stream",
     "text": [
      "==== グループ3 ====\n"
     ]
    },
    {
     "data": {
      "image/png": "[encoded data removed]",
      "text/plain": [
       "<Figure size 432x216 with 2 Axes>"
      ]
     },
     "metadata": {
      "needs_background": "light"
     },
     "output_type": "display_data"
    }
   ],
   "source": [
    "# クラスタと、チャネル・地域の関係を調べる\n",
    "\n",
    "# 販売チャネルと地域のみをdf3に抽出\n",
    "df3 = df[['販売チャネル', '地域']]\n",
    "\n",
    "# グラフの大きさ設定\n",
    "rcParams['figure.figsize'] = (6,3)\n",
    "\n",
    "# グループごとのグラフ表示\n",
    "for i in range(clusters):\n",
    "    fig, ax = plt.subplots()\n",
    "    w = df3[y_pred==i]\n",
    "    print(f'==== グループ{i} ====')\n",
    "    w.hist(ax=ax)\n",
    "    plt.tight_layout()\n",
    "    plt.show()"
   ]
  },
  {
   "cell_type": "markdown",
   "metadata": {
    "colab_type": "text",
    "id": "z3iYpMSZD3SH"
   },
   "source": [
    "#### 分析結果\n",
    "グループ0(生鮮)とグループ3(少量)は、チャネル1(Horeca)と関連が深い。   \n",
    "グループ1(食品)とグループ2(大量)は、チャネル2(Retail)と関連が深い。  \n",
    "地域とグループの関連は時に見いだせない。"
   ]
  },
  {
   "cell_type": "markdown",
   "metadata": {
    "colab_type": "text",
    "id": "kPwgiwbtD3SI"
   },
   "source": [
    "### 5.5.7 次元圧縮の実施"
   ]
  },
  {
   "cell_type": "code",
   "execution_count": 16,
   "metadata": {
    "colab": {},
    "colab_type": "code",
    "id": "clpaya39D3SI"
   },
   "outputs": [],
   "source": [
    "# アルゴリズムの選択\n",
    "from sklearn.decomposition import PCA\n",
    "\n",
    "# モデル生成\n",
    "# 散布図表示が目的のため2次元に圧縮\n",
    "pca = PCA(n_components=2)"
   ]
  },
  {
   "cell_type": "code",
   "execution_count": 17,
   "metadata": {
    "colab": {
     "base_uri": "https://localhost:8080/",
     "height": 105
    },
    "colab_type": "code",
    "id": "obiGfHi0D3SK",
    "outputId": "12142fe3-6ff5-4ae5-9841-4c7391d428f6"
   },
   "outputs": [
    {
     "name": "stdout",
     "output_type": "stream",
     "text": [
      "[[  650.0221  1585.5191]\n",
      " [-4426.805   4042.4515]\n",
      " [-4841.9987  2578.7622]\n",
      " [  990.3464 -6279.806 ]\n",
      " [10657.9987 -2159.7258]]\n"
     ]
    }
   ],
   "source": [
    "# 学習・変換の実施\n",
    "d2 = pca.fit_transform(df2)\n",
    "\n",
    "# 結果の一部表示\n",
    "print(d2[:5,:])"
   ]
  },
  {
   "cell_type": "markdown",
   "metadata": {
    "colab_type": "text",
    "id": "9O5StcBGD3SM"
   },
   "source": [
    "### 5.5.8 次元圧縮の活用方法"
   ]
  },
  {
   "cell_type": "markdown",
   "metadata": {
    "colab_type": "text",
    "id": "ceborIy5D3SM"
   },
   "source": [
    "#### 散布図表示"
   ]
  },
  {
   "cell_type": "code",
   "execution_count": 18,
   "metadata": {
    "colab": {
     "base_uri": "https://localhost:8080/",
     "height": 486
    },
    "colab_type": "code",
    "id": "DFOj2JT-D3SN",
    "outputId": "56d1ed99-e0b2-4d8e-9150-4ed20d0dd64a"
   },
   "outputs": [
    {
     "data": {
      "image/png": "[encoded data removed]",
      "text/plain": [
       "<Figure size 576x576 with 1 Axes>"
      ]
     },
     "metadata": {
      "needs_background": "light"
     },
     "output_type": "display_data"
    }
   ],
   "source": [
    "# グループごとに色分けし散布図表示\n",
    "\n",
    "plt.figure(figsize=(8,8))\n",
    "marks = ['.', 'x', '*', '+']\n",
    "labels = ['生鮮', '食品', '大量', '少量']\n",
    "colors = ['grey', 'lightblue', 'blue', 'black']\n",
    "for i in range(clusters):\n",
    "  plt.scatter(d2[y_pred==i][:,0], d2[y_pred==i][:,1], \n",
    "    marker=marks[i], label=labels[i], s=100, c=colors[i])\n",
    "plt.legend(fontsize=14)\n",
    "plt.show()"
   ]
  },
  {
   "cell_type": "markdown",
   "metadata": {
    "colab_type": "text",
    "id": "xSroAT7PD3SP"
   },
   "source": [
    "#### 例外値の調査"
   ]
  },
  {
   "cell_type": "code",
   "execution_count": 19,
   "metadata": {
    "colab": {
     "base_uri": "https://localhost:8080/",
     "height": 77
    },
    "colab_type": "code",
    "id": "ygbDqd_lD3SQ",
    "outputId": "e75d96d3-337a-4f63-bf2c-834c604e1706"
   },
   "outputs": [
    {
     "data": {
      "text/html": [
       "<div>\n",
       "<style scoped>\n",
       "    .dataframe tbody tr th:only-of-type {\n",
       "        vertical-align: middle;\n",
       "    }\n",
       "\n",
       "    .dataframe tbody tr th {\n",
       "        vertical-align: top;\n",
       "    }\n",
       "\n",
       "    .dataframe thead th {\n",
       "        text-align: right;\n",
       "    }\n",
       "</style>\n",
       "<table border=\"1\" class=\"dataframe\">\n",
       "  <thead>\n",
       "    <tr style=\"text-align: right;\">\n",
       "      <th></th>\n",
       "      <th>販売チャネル</th>\n",
       "      <th>地域</th>\n",
       "      <th>生鮮食品</th>\n",
       "      <th>乳製品</th>\n",
       "      <th>食料品</th>\n",
       "      <th>冷凍食品</th>\n",
       "      <th>洗剤_紙製品</th>\n",
       "      <th>総菜</th>\n",
       "    </tr>\n",
       "  </thead>\n",
       "  <tbody>\n",
       "    <tr>\n",
       "      <th>181</th>\n",
       "      <td>1</td>\n",
       "      <td>3</td>\n",
       "      <td>112151</td>\n",
       "      <td>29627</td>\n",
       "      <td>18148</td>\n",
       "      <td>16745</td>\n",
       "      <td>4948</td>\n",
       "      <td>8550</td>\n",
       "    </tr>\n",
       "  </tbody>\n",
       "</table>\n",
       "</div>"
      ],
      "text/plain": [
       "     販売チャネル  地域    生鮮食品    乳製品    食料品   冷凍食品  洗剤_紙製品    総菜\n",
       "181       1   3  112151  29627  18148  16745    4948  8550"
      ]
     },
     "metadata": {},
     "output_type": "display_data"
    }
   ],
   "source": [
    "# 生鮮グループの例外値を調べる\n",
    "display(df[d2[:,0] > 100000])"
   ]
  },
  {
   "cell_type": "markdown",
   "metadata": {
    "colab_type": "text",
    "id": "S7SvVzFBD3SR"
   },
   "source": [
    "【考察】  \n",
    "インデックス181の顧客は、特に生鮮食品の購買量が多いと考えられる"
   ]
  },
  {
   "cell_type": "code",
   "execution_count": 20,
   "metadata": {
    "colab": {
     "base_uri": "https://localhost:8080/",
     "height": 77
    },
    "colab_type": "code",
    "id": "1aNy2yJVD3SS",
    "outputId": "df28c201-d4bc-4db2-9387-bb7a645a9b26"
   },
   "outputs": [
    {
     "data": {
      "text/html": [
       "<div>\n",
       "<style scoped>\n",
       "    .dataframe tbody tr th:only-of-type {\n",
       "        vertical-align: middle;\n",
       "    }\n",
       "\n",
       "    .dataframe tbody tr th {\n",
       "        vertical-align: top;\n",
       "    }\n",
       "\n",
       "    .dataframe thead th {\n",
       "        text-align: right;\n",
       "    }\n",
       "</style>\n",
       "<table border=\"1\" class=\"dataframe\">\n",
       "  <thead>\n",
       "    <tr style=\"text-align: right;\">\n",
       "      <th></th>\n",
       "      <th>販売チャネル</th>\n",
       "      <th>地域</th>\n",
       "      <th>生鮮食品</th>\n",
       "      <th>乳製品</th>\n",
       "      <th>食料品</th>\n",
       "      <th>冷凍食品</th>\n",
       "      <th>洗剤_紙製品</th>\n",
       "      <th>総菜</th>\n",
       "    </tr>\n",
       "  </thead>\n",
       "  <tbody>\n",
       "    <tr>\n",
       "      <th>85</th>\n",
       "      <td>2</td>\n",
       "      <td>3</td>\n",
       "      <td>16117</td>\n",
       "      <td>46197</td>\n",
       "      <td>92780</td>\n",
       "      <td>1026</td>\n",
       "      <td>40827</td>\n",
       "      <td>2944</td>\n",
       "    </tr>\n",
       "  </tbody>\n",
       "</table>\n",
       "</div>"
      ],
      "text/plain": [
       "    販売チャネル  地域   生鮮食品    乳製品    食料品  冷凍食品  洗剤_紙製品    総菜\n",
       "85       2   3  16117  46197  92780  1026   40827  2944"
      ]
     },
     "metadata": {},
     "output_type": "display_data"
    }
   ],
   "source": [
    "# 大量グループの例外値を調べる\n",
    "display(df[d2[:,1] > 80000])"
   ]
  },
  {
   "cell_type": "markdown",
   "metadata": {
    "colab_type": "text",
    "id": "J6jV6-4HD3SU"
   },
   "source": [
    "【考察】  \n",
    "インデックス85の顧客は、特に食料品と洗剤・紙製品の購買量が多いと考えられる"
   ]
  },
  {
   "cell_type": "code",
   "execution_count": 21,
   "metadata": {
    "colab": {
     "base_uri": "https://localhost:8080/",
     "height": 284
    },
    "colab_type": "code",
    "id": "zgOgOJfhD3SU",
    "outputId": "e5c7fafd-3915-47d9-ff08-db1aa6c338b5",
    "scrolled": true
   },
   "outputs": [
    {
     "data": {
      "text/html": [
       "<div>\n",
       "<style scoped>\n",
       "    .dataframe tbody tr th:only-of-type {\n",
       "        vertical-align: middle;\n",
       "    }\n",
       "\n",
       "    .dataframe tbody tr th {\n",
       "        vertical-align: top;\n",
       "    }\n",
       "\n",
       "    .dataframe thead th {\n",
       "        text-align: right;\n",
       "    }\n",
       "</style>\n",
       "<table border=\"1\" class=\"dataframe\">\n",
       "  <thead>\n",
       "    <tr style=\"text-align: right;\">\n",
       "      <th></th>\n",
       "      <th>生鮮食品</th>\n",
       "      <th>乳製品</th>\n",
       "      <th>食料品</th>\n",
       "      <th>冷凍食品</th>\n",
       "      <th>洗剤_紙製品</th>\n",
       "      <th>総菜</th>\n",
       "    </tr>\n",
       "  </thead>\n",
       "  <tbody>\n",
       "    <tr>\n",
       "      <th>count</th>\n",
       "      <td>440.0000</td>\n",
       "      <td>440.0000</td>\n",
       "      <td>440.0000</td>\n",
       "      <td>440.0000</td>\n",
       "      <td>440.0000</td>\n",
       "      <td>440.0000</td>\n",
       "    </tr>\n",
       "    <tr>\n",
       "      <th>mean</th>\n",
       "      <td>12000.2977</td>\n",
       "      <td>5796.2659</td>\n",
       "      <td>7951.2773</td>\n",
       "      <td>3071.9318</td>\n",
       "      <td>2881.4932</td>\n",
       "      <td>1524.8705</td>\n",
       "    </tr>\n",
       "    <tr>\n",
       "      <th>std</th>\n",
       "      <td>12647.3289</td>\n",
       "      <td>7380.3772</td>\n",
       "      <td>9503.1628</td>\n",
       "      <td>4854.6733</td>\n",
       "      <td>4767.8544</td>\n",
       "      <td>2820.1059</td>\n",
       "    </tr>\n",
       "    <tr>\n",
       "      <th>min</th>\n",
       "      <td>3.0000</td>\n",
       "      <td>55.0000</td>\n",
       "      <td>3.0000</td>\n",
       "      <td>25.0000</td>\n",
       "      <td>3.0000</td>\n",
       "      <td>3.0000</td>\n",
       "    </tr>\n",
       "    <tr>\n",
       "      <th>25%</th>\n",
       "      <td>3127.7500</td>\n",
       "      <td>1533.0000</td>\n",
       "      <td>2153.0000</td>\n",
       "      <td>742.2500</td>\n",
       "      <td>256.7500</td>\n",
       "      <td>408.2500</td>\n",
       "    </tr>\n",
       "    <tr>\n",
       "      <th>50%</th>\n",
       "      <td>8504.0000</td>\n",
       "      <td>3627.0000</td>\n",
       "      <td>4755.5000</td>\n",
       "      <td>1526.0000</td>\n",
       "      <td>816.5000</td>\n",
       "      <td>965.5000</td>\n",
       "    </tr>\n",
       "    <tr>\n",
       "      <th>75%</th>\n",
       "      <td>16933.7500</td>\n",
       "      <td>7190.2500</td>\n",
       "      <td>10655.7500</td>\n",
       "      <td>3554.2500</td>\n",
       "      <td>3922.0000</td>\n",
       "      <td>1820.2500</td>\n",
       "    </tr>\n",
       "    <tr>\n",
       "      <th>max</th>\n",
       "      <td>112151.0000</td>\n",
       "      <td>73498.0000</td>\n",
       "      <td>92780.0000</td>\n",
       "      <td>60869.0000</td>\n",
       "      <td>40827.0000</td>\n",
       "      <td>47943.0000</td>\n",
       "    </tr>\n",
       "  </tbody>\n",
       "</table>\n",
       "</div>"
      ],
      "text/plain": [
       "             生鮮食品        乳製品        食料品       冷凍食品     洗剤_紙製品         総菜\n",
       "count    440.0000   440.0000   440.0000   440.0000   440.0000   440.0000\n",
       "mean   12000.2977  5796.2659  7951.2773  3071.9318  2881.4932  1524.8705\n",
       "std    12647.3289  7380.3772  9503.1628  4854.6733  4767.8544  2820.1059\n",
       "min        3.0000    55.0000     3.0000    25.0000     3.0000     3.0000\n",
       "25%     3127.7500  1533.0000  2153.0000   742.2500   256.7500   408.2500\n",
       "50%     8504.0000  3627.0000  4755.5000  1526.0000   816.5000   965.5000\n",
       "75%    16933.7500  7190.2500 10655.7500  3554.2500  3922.0000  1820.2500\n",
       "max   112151.0000 73498.0000 92780.0000 60869.0000 40827.0000 47943.0000"
      ]
     },
     "metadata": {},
     "output_type": "display_data"
    }
   ],
   "source": [
    "# 統計情報確認\n",
    "display(df2.describe())"
   ]
  },
  {
   "cell_type": "code",
   "execution_count": null,
   "metadata": {
    "colab": {},
    "colab_type": "code",
    "id": "U6zUEK9PD3SW"
   },
   "outputs": [],
   "source": []
  }
 ],
 "metadata": {
  "colab": {
   "name": "ch05_07_clustering.ipynb",
   "provenance": []
  },
  "kernelspec": {
   "display_name": "Python 3",
   "language": "python",
   "name": "python3"
  },
  "language_info": {
   "codemirror_mode": {
    "name": "ipython",
    "version": 3
   },
   "file_extension": ".py",
   "mimetype": "text/x-python",
   "name": "python",
   "nbconvert_exporter": "python",
   "pygments_lexer": "ipython3",
   "version": "3.8.10"
  }
 },
 "nbformat": 4,
 "nbformat_minor": 1
}
